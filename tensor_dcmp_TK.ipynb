{
 "cells": [
  {
   "cell_type": "markdown",
   "metadata": {
    "colab_type": "text",
    "id": "6EltwXFS-h0N"
   },
   "source": [
    "# Baseline Code for Deepfake Detection\n",
    "\n",
    "\n",
    "By Dongmin Kim"
   ]
  },
  {
   "cell_type": "markdown",
   "metadata": {
    "colab_type": "text",
    "id": "2vfYll4q9Dqj"
   },
   "source": [
    "## Data Setups"
   ]
  },
  {
   "cell_type": "code",
   "execution_count": 1,
   "metadata": {
    "colab": {},
    "colab_type": "code",
    "executionInfo": {
     "elapsed": 2574,
     "status": "ok",
     "timestamp": 1594861880337,
     "user": {
      "displayName": "dongmin kim",
      "photoUrl": "",
      "userId": "18288781491500504816"
     },
     "user_tz": -540
    },
    "id": "AkbZHQ3w_3TH"
   },
   "outputs": [],
   "source": [
    "import numpy as np\n",
    "import tensorflow as tf\n",
    "import matplotlib.pyplot as plt\n",
    "import glob\n",
    "import sys, os\n",
    "import pandas as pd\n",
    "from contextlib import contextmanager\n",
    "tf.compat.v1.disable_eager_execution()\n",
    "np.random.seed(42)"
   ]
  },
  {
   "cell_type": "code",
   "execution_count": 2,
   "metadata": {},
   "outputs": [],
   "source": [
    "gpu_id = '3'\n",
    "os.environ['CUDA_VISIBLE_DEVICES'] = str(gpu_id)\n",
    "physical_devices = tf.config.experimental.get_visible_devices('GPU')\n",
    "tf.config.experimental.set_memory_growth(physical_devices[0], True)"
   ]
  },
  {
   "cell_type": "code",
   "execution_count": 3,
   "metadata": {},
   "outputs": [
    {
     "data": {
      "text/plain": [
       "[PhysicalDevice(name='/physical_device:GPU:0', device_type='GPU')]"
      ]
     },
     "execution_count": 3,
     "metadata": {},
     "output_type": "execute_result"
    }
   ],
   "source": [
    "physical_devices"
   ]
  },
  {
   "cell_type": "code",
   "execution_count": 4,
   "metadata": {},
   "outputs": [
    {
     "data": {
      "text/plain": [
       "True"
      ]
     },
     "execution_count": 4,
     "metadata": {},
     "output_type": "execute_result"
    }
   ],
   "source": [
    "tf.test.is_gpu_available()"
   ]
  },
  {
   "cell_type": "markdown",
   "metadata": {
    "colab_type": "text",
    "id": "COfNhpEv6u5S"
   },
   "source": [
    "## Training"
   ]
  },
  {
   "cell_type": "code",
   "execution_count": 5,
   "metadata": {},
   "outputs": [],
   "source": [
    "BGR = lambda img: cv2.cvtColor(img, cv2.COLOR_BGR2RGB)"
   ]
  },
  {
   "cell_type": "code",
   "execution_count": 6,
   "metadata": {},
   "outputs": [],
   "source": [
    "VALID_RATIO = 0.1\n",
    "TEST_RATIO = 0.1\n",
    "BATCH_SIZE = 32\n",
    "EPOCHS = 100\n",
    "TOTAL_DATA_SIZE = 20000"
   ]
  },
  {
   "cell_type": "code",
   "execution_count": 7,
   "metadata": {
    "colab": {},
    "colab_type": "code",
    "executionInfo": {
     "elapsed": 9626,
     "status": "ok",
     "timestamp": 1594861887408,
     "user": {
      "displayName": "dongmin kim",
      "photoUrl": "",
      "userId": "18288781491500504816"
     },
     "user_tz": -540
    },
    "id": "TYD8hU74FOKe"
   },
   "outputs": [],
   "source": [
    "data_gen_args = dict(\n",
    "    rescale=1./255, \n",
    "    rotation_range=20, \n",
    "    width_shift_range=0.1, \n",
    "    height_shift_range=0.1, \n",
    "    shear_range=0.1, \n",
    "    zoom_range=0.1, \n",
    "    horizontal_flip=True, \n",
    "    fill_mode='nearest',\n",
    "    validation_split = VALID_RATIO,\n",
    ")\n",
    "\n",
    "datagen = tf.keras.preprocessing.image.ImageDataGenerator(\n",
    "    **data_gen_args,\n",
    "    preprocessing_function = BGR\n",
    ")\n",
    "\n",
    "test_datagen = tf.keras.preprocessing.image.ImageDataGenerator(\n",
    "    rescale=1./255, \n",
    "    preprocessing_function = BGR\n",
    ")"
   ]
  },
  {
   "cell_type": "code",
   "execution_count": 8,
   "metadata": {},
   "outputs": [
    {
     "name": "stdout",
     "output_type": "stream",
     "text": [
      "FROM DIR\n",
      "REAL:  10000\n",
      "FAKE:  10000\n",
      "TOTAL:  20000\n"
     ]
    }
   ],
   "source": [
    "seed = 42\n",
    "#path = \"/media/data1/hsm/FACE_FORENSICS_C40/DATA_FRAMES/\"\n",
    "path = \"./TK\"\n",
    "real_data_dir = os.path.join(path, 'REAL')\n",
    "fake_data_dir = os.path.join(path, 'FAKE', 'NeuralTextures')\n",
    "\n",
    "real_filenames = np.array([os.path.join('REAL', f) for f in os.listdir(real_data_dir)])\n",
    "fake_filenames = np.array([os.path.join('FAKE', 'NeuralTextures', f) for f in os.listdir(fake_data_dir)])\n",
    "\n",
    "print(\"FROM DIR\")\n",
    "print(\"REAL: \", len(real_filenames))\n",
    "print(\"FAKE: \", len(fake_filenames))\n",
    "print(\"TOTAL: \", len(real_filenames) + len(fake_filenames))"
   ]
  },
  {
   "cell_type": "code",
   "execution_count": 9,
   "metadata": {},
   "outputs": [],
   "source": [
    "# random sampling\n",
    "real_filenames = np.random.choice(real_filenames, TOTAL_DATA_SIZE//2, replace = False).tolist()\n",
    "fake_filenames = np.random.choice(fake_filenames, TOTAL_DATA_SIZE//2, replace = False).tolist()"
   ]
  },
  {
   "cell_type": "code",
   "execution_count": 10,
   "metadata": {},
   "outputs": [
    {
     "name": "stdout",
     "output_type": "stream",
     "text": [
      "TRIM SIZE\n",
      "REAL:  10000\n",
      "FAKE:  10000\n",
      "TOTAL:  20000\n",
      "TRAIN:  16200 VALIDATION:  1800 TEST:  2000\n"
     ]
    }
   ],
   "source": [
    "print(\"TRIM SIZE\")\n",
    "print(\"REAL: \", len(real_filenames))\n",
    "print(\"FAKE: \", len(fake_filenames))\n",
    "print(\"TOTAL: \", len(real_filenames) + len(fake_filenames))\n",
    "\n",
    "total_length = len(real_filenames) + len(fake_filenames)\n",
    "\n",
    "test_length = int(total_length * TEST_RATIO)\n",
    "validation_length = int((total_length-test_length) * VALID_RATIO)\n",
    "train_length = total_length - validation_length - test_length\n",
    "\n",
    "print(\"TRAIN: \", train_length, \"VALIDATION: \", validation_length, \"TEST: \", test_length)"
   ]
  },
  {
   "cell_type": "markdown",
   "metadata": {},
   "source": [
    "## Test Dataset Separation"
   ]
  },
  {
   "cell_type": "code",
   "execution_count": 11,
   "metadata": {},
   "outputs": [],
   "source": [
    "import cv2"
   ]
  },
  {
   "cell_type": "code",
   "execution_count": 12,
   "metadata": {},
   "outputs": [],
   "source": [
    "real_filenames_test = real_filenames[:test_length//2]\n",
    "fake_filenames_test = fake_filenames[:test_length//2]\n",
    "real_filenames = real_filenames[test_length//2:]\n",
    "fake_filenames = fake_filenames[test_length//2:]"
   ]
  },
  {
   "cell_type": "code",
   "execution_count": 13,
   "metadata": {},
   "outputs": [],
   "source": [
    "real_categories_test = []\n",
    "for filename in real_filenames_test:\n",
    "    real_categories_test.append('0')\n",
    "        \n",
    "real_testdata = pd.DataFrame({'filename' : real_filenames_test, 'label' : real_categories_test})"
   ]
  },
  {
   "cell_type": "code",
   "execution_count": 14,
   "metadata": {},
   "outputs": [],
   "source": [
    "fake_categories_test = []\n",
    "for filename in fake_filenames_test:\n",
    "    fake_categories_test.append('1')\n",
    "\n",
    "fake_testdata = pd.DataFrame({'filename' : fake_filenames_test, 'label' : fake_categories_test})"
   ]
  },
  {
   "cell_type": "code",
   "execution_count": 15,
   "metadata": {},
   "outputs": [],
   "source": [
    "test_data = pd.concat([real_testdata, fake_testdata])"
   ]
  },
  {
   "cell_type": "code",
   "execution_count": 16,
   "metadata": {},
   "outputs": [],
   "source": [
    "# real : 0, fake : 1\n",
    "categories = []\n",
    "for filename in real_filenames:\n",
    "    categories.append('0')\n",
    "    \n",
    "for filename in fake_filenames:\n",
    "    categories.append('1')"
   ]
  },
  {
   "cell_type": "code",
   "execution_count": 17,
   "metadata": {},
   "outputs": [],
   "source": [
    "data = pd.DataFrame({'filename' : real_filenames + fake_filenames, 'label' : categories})"
   ]
  },
  {
   "cell_type": "code",
   "execution_count": 18,
   "metadata": {},
   "outputs": [
    {
     "data": {
      "text/html": [
       "<div>\n",
       "<style scoped>\n",
       "    .dataframe tbody tr th:only-of-type {\n",
       "        vertical-align: middle;\n",
       "    }\n",
       "\n",
       "    .dataframe tbody tr th {\n",
       "        vertical-align: top;\n",
       "    }\n",
       "\n",
       "    .dataframe thead th {\n",
       "        text-align: right;\n",
       "    }\n",
       "</style>\n",
       "<table border=\"1\" class=\"dataframe\">\n",
       "  <thead>\n",
       "    <tr style=\"text-align: right;\">\n",
       "      <th></th>\n",
       "      <th>filename</th>\n",
       "      <th>label</th>\n",
       "    </tr>\n",
       "  </thead>\n",
       "  <tbody>\n",
       "    <tr>\n",
       "      <th>0</th>\n",
       "      <td>REAL/16__podium_speech_happy_frame1145.jpg</td>\n",
       "      <td>0</td>\n",
       "    </tr>\n",
       "    <tr>\n",
       "      <th>1</th>\n",
       "      <td>REAL/11__talking_against_wall_frame30.jpg</td>\n",
       "      <td>0</td>\n",
       "    </tr>\n",
       "    <tr>\n",
       "      <th>2</th>\n",
       "      <td>REAL/133_frame456.jpg</td>\n",
       "      <td>0</td>\n",
       "    </tr>\n",
       "    <tr>\n",
       "      <th>3</th>\n",
       "      <td>REAL/05__talking_against_wall_frame300.jpg</td>\n",
       "      <td>0</td>\n",
       "    </tr>\n",
       "    <tr>\n",
       "      <th>4</th>\n",
       "      <td>REAL/672_frame354.jpg</td>\n",
       "      <td>0</td>\n",
       "    </tr>\n",
       "    <tr>\n",
       "      <th>...</th>\n",
       "      <td>...</td>\n",
       "      <td>...</td>\n",
       "    </tr>\n",
       "    <tr>\n",
       "      <th>17995</th>\n",
       "      <td>FAKE/NeuralTextures/211_177_frame120.jpg</td>\n",
       "      <td>1</td>\n",
       "    </tr>\n",
       "    <tr>\n",
       "      <th>17996</th>\n",
       "      <td>FAKE/NeuralTextures/727_729_frame370.jpg</td>\n",
       "      <td>1</td>\n",
       "    </tr>\n",
       "    <tr>\n",
       "      <th>17997</th>\n",
       "      <td>FAKE/NeuralTextures/314_347_frame318.jpg</td>\n",
       "      <td>1</td>\n",
       "    </tr>\n",
       "    <tr>\n",
       "      <th>17998</th>\n",
       "      <td>FAKE/NeuralTextures/546_621_frame210.jpg</td>\n",
       "      <td>1</td>\n",
       "    </tr>\n",
       "    <tr>\n",
       "      <th>17999</th>\n",
       "      <td>FAKE/NeuralTextures/743_750_frame144.jpg</td>\n",
       "      <td>1</td>\n",
       "    </tr>\n",
       "  </tbody>\n",
       "</table>\n",
       "<p>18000 rows × 2 columns</p>\n",
       "</div>"
      ],
      "text/plain": [
       "                                         filename label\n",
       "0      REAL/16__podium_speech_happy_frame1145.jpg     0\n",
       "1       REAL/11__talking_against_wall_frame30.jpg     0\n",
       "2                           REAL/133_frame456.jpg     0\n",
       "3      REAL/05__talking_against_wall_frame300.jpg     0\n",
       "4                           REAL/672_frame354.jpg     0\n",
       "...                                           ...   ...\n",
       "17995    FAKE/NeuralTextures/211_177_frame120.jpg     1\n",
       "17996    FAKE/NeuralTextures/727_729_frame370.jpg     1\n",
       "17997    FAKE/NeuralTextures/314_347_frame318.jpg     1\n",
       "17998    FAKE/NeuralTextures/546_621_frame210.jpg     1\n",
       "17999    FAKE/NeuralTextures/743_750_frame144.jpg     1\n",
       "\n",
       "[18000 rows x 2 columns]"
      ]
     },
     "execution_count": 18,
     "metadata": {},
     "output_type": "execute_result"
    }
   ],
   "source": [
    "data"
   ]
  },
  {
   "cell_type": "code",
   "execution_count": 19,
   "metadata": {},
   "outputs": [],
   "source": [
    "data = data.iloc[np.random.RandomState(seed = 42).permutation(len(data))]"
   ]
  },
  {
   "cell_type": "code",
   "execution_count": 20,
   "metadata": {},
   "outputs": [
    {
     "data": {
      "text/html": [
       "<div>\n",
       "<style scoped>\n",
       "    .dataframe tbody tr th:only-of-type {\n",
       "        vertical-align: middle;\n",
       "    }\n",
       "\n",
       "    .dataframe tbody tr th {\n",
       "        vertical-align: top;\n",
       "    }\n",
       "\n",
       "    .dataframe thead th {\n",
       "        text-align: right;\n",
       "    }\n",
       "</style>\n",
       "<table border=\"1\" class=\"dataframe\">\n",
       "  <thead>\n",
       "    <tr style=\"text-align: right;\">\n",
       "      <th></th>\n",
       "      <th>filename</th>\n",
       "      <th>label</th>\n",
       "    </tr>\n",
       "  </thead>\n",
       "  <tbody>\n",
       "    <tr>\n",
       "      <th>2574</th>\n",
       "      <td>REAL/794_frame430.jpg</td>\n",
       "      <td>0</td>\n",
       "    </tr>\n",
       "    <tr>\n",
       "      <th>7496</th>\n",
       "      <td>REAL/540_frame170.jpg</td>\n",
       "      <td>0</td>\n",
       "    </tr>\n",
       "    <tr>\n",
       "      <th>9210</th>\n",
       "      <td>FAKE/NeuralTextures/104_126_frame78.jpg</td>\n",
       "      <td>1</td>\n",
       "    </tr>\n",
       "    <tr>\n",
       "      <th>5456</th>\n",
       "      <td>REAL/01__kitchen_still_frame250.jpg</td>\n",
       "      <td>0</td>\n",
       "    </tr>\n",
       "    <tr>\n",
       "      <th>736</th>\n",
       "      <td>REAL/241_frame210.jpg</td>\n",
       "      <td>0</td>\n",
       "    </tr>\n",
       "    <tr>\n",
       "      <th>...</th>\n",
       "      <td>...</td>\n",
       "      <td>...</td>\n",
       "    </tr>\n",
       "    <tr>\n",
       "      <th>11284</th>\n",
       "      <td>FAKE/NeuralTextures/234_187_frame102.jpg</td>\n",
       "      <td>1</td>\n",
       "    </tr>\n",
       "    <tr>\n",
       "      <th>11964</th>\n",
       "      <td>FAKE/NeuralTextures/118_120_frame125.jpg</td>\n",
       "      <td>1</td>\n",
       "    </tr>\n",
       "    <tr>\n",
       "      <th>5390</th>\n",
       "      <td>REAL/744_frame84.jpg</td>\n",
       "      <td>0</td>\n",
       "    </tr>\n",
       "    <tr>\n",
       "      <th>860</th>\n",
       "      <td>REAL/074_frame35.jpg</td>\n",
       "      <td>0</td>\n",
       "    </tr>\n",
       "    <tr>\n",
       "      <th>15795</th>\n",
       "      <td>FAKE/NeuralTextures/544_532_frame270.jpg</td>\n",
       "      <td>1</td>\n",
       "    </tr>\n",
       "  </tbody>\n",
       "</table>\n",
       "<p>18000 rows × 2 columns</p>\n",
       "</div>"
      ],
      "text/plain": [
       "                                       filename label\n",
       "2574                      REAL/794_frame430.jpg     0\n",
       "7496                      REAL/540_frame170.jpg     0\n",
       "9210    FAKE/NeuralTextures/104_126_frame78.jpg     1\n",
       "5456        REAL/01__kitchen_still_frame250.jpg     0\n",
       "736                       REAL/241_frame210.jpg     0\n",
       "...                                         ...   ...\n",
       "11284  FAKE/NeuralTextures/234_187_frame102.jpg     1\n",
       "11964  FAKE/NeuralTextures/118_120_frame125.jpg     1\n",
       "5390                       REAL/744_frame84.jpg     0\n",
       "860                        REAL/074_frame35.jpg     0\n",
       "15795  FAKE/NeuralTextures/544_532_frame270.jpg     1\n",
       "\n",
       "[18000 rows x 2 columns]"
      ]
     },
     "execution_count": 20,
     "metadata": {},
     "output_type": "execute_result"
    }
   ],
   "source": [
    "data"
   ]
  },
  {
   "cell_type": "code",
   "execution_count": 21,
   "metadata": {},
   "outputs": [
    {
     "data": {
      "text/html": [
       "<div>\n",
       "<style scoped>\n",
       "    .dataframe tbody tr th:only-of-type {\n",
       "        vertical-align: middle;\n",
       "    }\n",
       "\n",
       "    .dataframe tbody tr th {\n",
       "        vertical-align: top;\n",
       "    }\n",
       "\n",
       "    .dataframe thead th {\n",
       "        text-align: right;\n",
       "    }\n",
       "</style>\n",
       "<table border=\"1\" class=\"dataframe\">\n",
       "  <thead>\n",
       "    <tr style=\"text-align: right;\">\n",
       "      <th></th>\n",
       "      <th>filename</th>\n",
       "      <th>label</th>\n",
       "    </tr>\n",
       "  </thead>\n",
       "  <tbody>\n",
       "    <tr>\n",
       "      <th>0</th>\n",
       "      <td>REAL/07__talking_angry_couch_frame1500.jpg</td>\n",
       "      <td>0</td>\n",
       "    </tr>\n",
       "    <tr>\n",
       "      <th>1</th>\n",
       "      <td>REAL/385_frame72.jpg</td>\n",
       "      <td>0</td>\n",
       "    </tr>\n",
       "    <tr>\n",
       "      <th>2</th>\n",
       "      <td>REAL/06__walk_down_hall_angry_frame20.jpg</td>\n",
       "      <td>0</td>\n",
       "    </tr>\n",
       "    <tr>\n",
       "      <th>3</th>\n",
       "      <td>REAL/825_frame420.jpg</td>\n",
       "      <td>0</td>\n",
       "    </tr>\n",
       "    <tr>\n",
       "      <th>4</th>\n",
       "      <td>REAL/994_frame25.jpg</td>\n",
       "      <td>0</td>\n",
       "    </tr>\n",
       "    <tr>\n",
       "      <th>...</th>\n",
       "      <td>...</td>\n",
       "      <td>...</td>\n",
       "    </tr>\n",
       "    <tr>\n",
       "      <th>995</th>\n",
       "      <td>FAKE/NeuralTextures/949_868_frame72.jpg</td>\n",
       "      <td>1</td>\n",
       "    </tr>\n",
       "    <tr>\n",
       "      <th>996</th>\n",
       "      <td>FAKE/NeuralTextures/579_701_frame96.jpg</td>\n",
       "      <td>1</td>\n",
       "    </tr>\n",
       "    <tr>\n",
       "      <th>997</th>\n",
       "      <td>FAKE/NeuralTextures/271_264_frame90.jpg</td>\n",
       "      <td>1</td>\n",
       "    </tr>\n",
       "    <tr>\n",
       "      <th>998</th>\n",
       "      <td>FAKE/NeuralTextures/712_716_frame340.jpg</td>\n",
       "      <td>1</td>\n",
       "    </tr>\n",
       "    <tr>\n",
       "      <th>999</th>\n",
       "      <td>FAKE/NeuralTextures/359_317_frame294.jpg</td>\n",
       "      <td>1</td>\n",
       "    </tr>\n",
       "  </tbody>\n",
       "</table>\n",
       "<p>2000 rows × 2 columns</p>\n",
       "</div>"
      ],
      "text/plain": [
       "                                       filename label\n",
       "0    REAL/07__talking_angry_couch_frame1500.jpg     0\n",
       "1                          REAL/385_frame72.jpg     0\n",
       "2     REAL/06__walk_down_hall_angry_frame20.jpg     0\n",
       "3                         REAL/825_frame420.jpg     0\n",
       "4                          REAL/994_frame25.jpg     0\n",
       "..                                          ...   ...\n",
       "995     FAKE/NeuralTextures/949_868_frame72.jpg     1\n",
       "996     FAKE/NeuralTextures/579_701_frame96.jpg     1\n",
       "997     FAKE/NeuralTextures/271_264_frame90.jpg     1\n",
       "998    FAKE/NeuralTextures/712_716_frame340.jpg     1\n",
       "999    FAKE/NeuralTextures/359_317_frame294.jpg     1\n",
       "\n",
       "[2000 rows x 2 columns]"
      ]
     },
     "execution_count": 21,
     "metadata": {},
     "output_type": "execute_result"
    }
   ],
   "source": [
    "test_data"
   ]
  },
  {
   "cell_type": "code",
   "execution_count": 22,
   "metadata": {},
   "outputs": [
    {
     "data": {
      "text/plain": [
       "label\n",
       "0    1000\n",
       "1    1000\n",
       "dtype: int64"
      ]
     },
     "execution_count": 22,
     "metadata": {},
     "output_type": "execute_result"
    }
   ],
   "source": [
    "test_data.groupby(['label']).size()"
   ]
  },
  {
   "cell_type": "code",
   "execution_count": 23,
   "metadata": {
    "colab": {
     "base_uri": "https://localhost:8080/",
     "height": 51
    },
    "colab_type": "code",
    "executionInfo": {
     "elapsed": 44421,
     "status": "ok",
     "timestamp": 1594861922212,
     "user": {
      "displayName": "dongmin kim",
      "photoUrl": "",
      "userId": "18288781491500504816"
     },
     "user_tz": -540
    },
    "id": "JfDhCEOCHMP9",
    "outputId": "bf643961-e321-433e-84f8-7f793bd2efda"
   },
   "outputs": [
    {
     "name": "stdout",
     "output_type": "stream",
     "text": [
      "Found 16200 validated image filenames belonging to 2 classes.\n",
      "Found 1800 validated image filenames belonging to 2 classes.\n",
      "Found 2000 validated image filenames belonging to 2 classes.\n"
     ]
    }
   ],
   "source": [
    "train_generator = datagen.flow_from_dataframe(\n",
    "    dataframe = data,\n",
    "    directory = path,\n",
    "    x_col = 'filename',\n",
    "    y_col = 'label',\n",
    "    target_size =(256, 256),\n",
    "    batch_size = BATCH_SIZE,\n",
    "    class_mode = 'binary',\n",
    "    shuffle = True,\n",
    "    subset = 'training'\n",
    ")\n",
    "\n",
    "\n",
    "validation_generator = datagen.flow_from_dataframe(\n",
    "    dataframe = data,\n",
    "    directory = path,\n",
    "    x_col = 'filename',\n",
    "    y_col = 'label',\n",
    "    target_size =(256, 256),\n",
    "    batch_size = BATCH_SIZE,\n",
    "    class_mode = 'binary',\n",
    "    shuffle = True,\n",
    "    subset = 'validation'\n",
    ")\n",
    "\n",
    "test_generator = test_datagen.flow_from_dataframe(\n",
    "    dataframe = test_data,\n",
    "    directory = path,\n",
    "    x_col = 'filename',\n",
    "    y_col = 'label',\n",
    "    target_size =(256, 256),\n",
    "    batch_size = BATCH_SIZE,\n",
    "    class_mode = 'binary',\n",
    ")"
   ]
  },
  {
   "cell_type": "code",
   "execution_count": 24,
   "metadata": {
    "colab": {
     "base_uri": "https://localhost:8080/",
     "height": 68
    },
    "colab_type": "code",
    "executionInfo": {
     "elapsed": 53852,
     "status": "ok",
     "timestamp": 1594861931663,
     "user": {
      "displayName": "dongmin kim",
      "photoUrl": "",
      "userId": "18288781491500504816"
     },
     "user_tz": -540
    },
    "id": "Q7lrrsvnh0FO",
    "outputId": "763103a8-abec-4e65-91c0-fe6e1a91cf63"
   },
   "outputs": [],
   "source": [
    "# import available models for training\n",
    "from tensorflow.keras.models import Model\n",
    "from tensorflow.keras import models\n",
    "from tensorflow.keras.models import Sequential\n",
    "from tensorflow.keras.layers import Input, Dense, Activation, Flatten, Dropout\n",
    "import efficientnet.tfkeras as efn\n",
    "from tensorflow.keras.applications.resnet50 import ResNet50\n",
    "from tensorflow.keras.applications.xception import Xception"
   ]
  },
  {
   "cell_type": "code",
   "execution_count": 25,
   "metadata": {
    "colab": {},
    "colab_type": "code",
    "executionInfo": {
     "elapsed": 53849,
     "status": "ok",
     "timestamp": 1594861931664,
     "user": {
      "displayName": "dongmin kim",
      "photoUrl": "",
      "userId": "18288781491500504816"
     },
     "user_tz": -540
    },
    "id": "h_qQl7mYM_4H"
   },
   "outputs": [],
   "source": [
    "def setupmodel():\n",
    "    input_tensor = Input(shape = (256,256,3))\n",
    "\n",
    "    base_model = Xception(\n",
    "    weights = 'imagenet',\n",
    "    include_top = False,\n",
    "    input_tensor = input_tensor\n",
    "    )\n",
    "    # Setup\n",
    "    x = base_model.output\n",
    "    x = Flatten()(x)\n",
    "    x = Dense(256, activation = \"relu\")(x)\n",
    "    prediction = Dense(1, activation=\"sigmoid\")(x)\n",
    "\n",
    "    # model return\n",
    "    model = Model(base_model.input, prediction)\n",
    "\n",
    "    # trainable\n",
    "    for l in base_model.layers:\n",
    "        l.trainable = True\n",
    "\n",
    "    return model"
   ]
  },
  {
   "cell_type": "code",
   "execution_count": 26,
   "metadata": {
    "colab": {},
    "colab_type": "code",
    "executionInfo": {
     "elapsed": 57132,
     "status": "ok",
     "timestamp": 1594861934952,
     "user": {
      "displayName": "dongmin kim",
      "photoUrl": "",
      "userId": "18288781491500504816"
     },
     "user_tz": -540
    },
    "id": "W72UW_JAOqIL"
   },
   "outputs": [
    {
     "name": "stdout",
     "output_type": "stream",
     "text": [
      "WARNING:tensorflow:From /home/dongmin/anaconda3/lib/python3.7/site-packages/tensorflow_core/python/ops/resource_variable_ops.py:1630: calling BaseResourceVariable.__init__ (from tensorflow.python.ops.resource_variable_ops) with constraint is deprecated and will be removed in a future version.\n",
      "Instructions for updating:\n",
      "If using Keras pass *_constraint arguments to layers.\n"
     ]
    }
   ],
   "source": [
    "model = setupmodel()"
   ]
  },
  {
   "cell_type": "code",
   "execution_count": 27,
   "metadata": {
    "colab": {
     "base_uri": "https://localhost:8080/",
     "height": 1000
    },
    "colab_type": "code",
    "executionInfo": {
     "elapsed": 57125,
     "status": "ok",
     "timestamp": 1594861934955,
     "user": {
      "displayName": "dongmin kim",
      "photoUrl": "",
      "userId": "18288781491500504816"
     },
     "user_tz": -540
    },
    "id": "w1aKA6TGPYQJ",
    "outputId": "d713b6a3-c474-4ff3-db93-246221cd12ad"
   },
   "outputs": [
    {
     "name": "stdout",
     "output_type": "stream",
     "text": [
      "Model: \"model\"\n",
      "__________________________________________________________________________________________________\n",
      "Layer (type)                    Output Shape         Param #     Connected to                     \n",
      "==================================================================================================\n",
      "input_1 (InputLayer)            [(None, 256, 256, 3) 0                                            \n",
      "__________________________________________________________________________________________________\n",
      "block1_conv1 (Conv2D)           (None, 127, 127, 32) 864         input_1[0][0]                    \n",
      "__________________________________________________________________________________________________\n",
      "block1_conv1_bn (BatchNormaliza (None, 127, 127, 32) 128         block1_conv1[0][0]               \n",
      "__________________________________________________________________________________________________\n",
      "block1_conv1_act (Activation)   (None, 127, 127, 32) 0           block1_conv1_bn[0][0]            \n",
      "__________________________________________________________________________________________________\n",
      "block1_conv2 (Conv2D)           (None, 125, 125, 64) 18432       block1_conv1_act[0][0]           \n",
      "__________________________________________________________________________________________________\n",
      "block1_conv2_bn (BatchNormaliza (None, 125, 125, 64) 256         block1_conv2[0][0]               \n",
      "__________________________________________________________________________________________________\n",
      "block1_conv2_act (Activation)   (None, 125, 125, 64) 0           block1_conv2_bn[0][0]            \n",
      "__________________________________________________________________________________________________\n",
      "block2_sepconv1 (SeparableConv2 (None, 125, 125, 128 8768        block1_conv2_act[0][0]           \n",
      "__________________________________________________________________________________________________\n",
      "block2_sepconv1_bn (BatchNormal (None, 125, 125, 128 512         block2_sepconv1[0][0]            \n",
      "__________________________________________________________________________________________________\n",
      "block2_sepconv2_act (Activation (None, 125, 125, 128 0           block2_sepconv1_bn[0][0]         \n",
      "__________________________________________________________________________________________________\n",
      "block2_sepconv2 (SeparableConv2 (None, 125, 125, 128 17536       block2_sepconv2_act[0][0]        \n",
      "__________________________________________________________________________________________________\n",
      "block2_sepconv2_bn (BatchNormal (None, 125, 125, 128 512         block2_sepconv2[0][0]            \n",
      "__________________________________________________________________________________________________\n",
      "conv2d (Conv2D)                 (None, 63, 63, 128)  8192        block1_conv2_act[0][0]           \n",
      "__________________________________________________________________________________________________\n",
      "block2_pool (MaxPooling2D)      (None, 63, 63, 128)  0           block2_sepconv2_bn[0][0]         \n",
      "__________________________________________________________________________________________________\n",
      "batch_normalization (BatchNorma (None, 63, 63, 128)  512         conv2d[0][0]                     \n",
      "__________________________________________________________________________________________________\n",
      "add (Add)                       (None, 63, 63, 128)  0           block2_pool[0][0]                \n",
      "                                                                 batch_normalization[0][0]        \n",
      "__________________________________________________________________________________________________\n",
      "block3_sepconv1_act (Activation (None, 63, 63, 128)  0           add[0][0]                        \n",
      "__________________________________________________________________________________________________\n",
      "block3_sepconv1 (SeparableConv2 (None, 63, 63, 256)  33920       block3_sepconv1_act[0][0]        \n",
      "__________________________________________________________________________________________________\n",
      "block3_sepconv1_bn (BatchNormal (None, 63, 63, 256)  1024        block3_sepconv1[0][0]            \n",
      "__________________________________________________________________________________________________\n",
      "block3_sepconv2_act (Activation (None, 63, 63, 256)  0           block3_sepconv1_bn[0][0]         \n",
      "__________________________________________________________________________________________________\n",
      "block3_sepconv2 (SeparableConv2 (None, 63, 63, 256)  67840       block3_sepconv2_act[0][0]        \n",
      "__________________________________________________________________________________________________\n",
      "block3_sepconv2_bn (BatchNormal (None, 63, 63, 256)  1024        block3_sepconv2[0][0]            \n",
      "__________________________________________________________________________________________________\n",
      "conv2d_1 (Conv2D)               (None, 32, 32, 256)  32768       add[0][0]                        \n",
      "__________________________________________________________________________________________________\n",
      "block3_pool (MaxPooling2D)      (None, 32, 32, 256)  0           block3_sepconv2_bn[0][0]         \n",
      "__________________________________________________________________________________________________\n",
      "batch_normalization_1 (BatchNor (None, 32, 32, 256)  1024        conv2d_1[0][0]                   \n",
      "__________________________________________________________________________________________________\n",
      "add_1 (Add)                     (None, 32, 32, 256)  0           block3_pool[0][0]                \n",
      "                                                                 batch_normalization_1[0][0]      \n",
      "__________________________________________________________________________________________________\n",
      "block4_sepconv1_act (Activation (None, 32, 32, 256)  0           add_1[0][0]                      \n",
      "__________________________________________________________________________________________________\n",
      "block4_sepconv1 (SeparableConv2 (None, 32, 32, 728)  188672      block4_sepconv1_act[0][0]        \n",
      "__________________________________________________________________________________________________\n",
      "block4_sepconv1_bn (BatchNormal (None, 32, 32, 728)  2912        block4_sepconv1[0][0]            \n",
      "__________________________________________________________________________________________________\n",
      "block4_sepconv2_act (Activation (None, 32, 32, 728)  0           block4_sepconv1_bn[0][0]         \n",
      "__________________________________________________________________________________________________\n",
      "block4_sepconv2 (SeparableConv2 (None, 32, 32, 728)  536536      block4_sepconv2_act[0][0]        \n",
      "__________________________________________________________________________________________________\n",
      "block4_sepconv2_bn (BatchNormal (None, 32, 32, 728)  2912        block4_sepconv2[0][0]            \n",
      "__________________________________________________________________________________________________\n",
      "conv2d_2 (Conv2D)               (None, 16, 16, 728)  186368      add_1[0][0]                      \n",
      "__________________________________________________________________________________________________\n",
      "block4_pool (MaxPooling2D)      (None, 16, 16, 728)  0           block4_sepconv2_bn[0][0]         \n",
      "__________________________________________________________________________________________________\n",
      "batch_normalization_2 (BatchNor (None, 16, 16, 728)  2912        conv2d_2[0][0]                   \n",
      "__________________________________________________________________________________________________\n",
      "add_2 (Add)                     (None, 16, 16, 728)  0           block4_pool[0][0]                \n",
      "                                                                 batch_normalization_2[0][0]      \n",
      "__________________________________________________________________________________________________\n",
      "block5_sepconv1_act (Activation (None, 16, 16, 728)  0           add_2[0][0]                      \n",
      "__________________________________________________________________________________________________\n",
      "block5_sepconv1 (SeparableConv2 (None, 16, 16, 728)  536536      block5_sepconv1_act[0][0]        \n",
      "__________________________________________________________________________________________________\n",
      "block5_sepconv1_bn (BatchNormal (None, 16, 16, 728)  2912        block5_sepconv1[0][0]            \n",
      "__________________________________________________________________________________________________\n",
      "block5_sepconv2_act (Activation (None, 16, 16, 728)  0           block5_sepconv1_bn[0][0]         \n",
      "__________________________________________________________________________________________________\n",
      "block5_sepconv2 (SeparableConv2 (None, 16, 16, 728)  536536      block5_sepconv2_act[0][0]        \n",
      "__________________________________________________________________________________________________\n",
      "block5_sepconv2_bn (BatchNormal (None, 16, 16, 728)  2912        block5_sepconv2[0][0]            \n",
      "__________________________________________________________________________________________________\n",
      "block5_sepconv3_act (Activation (None, 16, 16, 728)  0           block5_sepconv2_bn[0][0]         \n",
      "__________________________________________________________________________________________________\n",
      "block5_sepconv3 (SeparableConv2 (None, 16, 16, 728)  536536      block5_sepconv3_act[0][0]        \n",
      "__________________________________________________________________________________________________\n",
      "block5_sepconv3_bn (BatchNormal (None, 16, 16, 728)  2912        block5_sepconv3[0][0]            \n",
      "__________________________________________________________________________________________________\n",
      "add_3 (Add)                     (None, 16, 16, 728)  0           block5_sepconv3_bn[0][0]         \n",
      "                                                                 add_2[0][0]                      \n",
      "__________________________________________________________________________________________________\n",
      "block6_sepconv1_act (Activation (None, 16, 16, 728)  0           add_3[0][0]                      \n",
      "__________________________________________________________________________________________________\n",
      "block6_sepconv1 (SeparableConv2 (None, 16, 16, 728)  536536      block6_sepconv1_act[0][0]        \n",
      "__________________________________________________________________________________________________\n",
      "block6_sepconv1_bn (BatchNormal (None, 16, 16, 728)  2912        block6_sepconv1[0][0]            \n",
      "__________________________________________________________________________________________________\n",
      "block6_sepconv2_act (Activation (None, 16, 16, 728)  0           block6_sepconv1_bn[0][0]         \n",
      "__________________________________________________________________________________________________\n",
      "block6_sepconv2 (SeparableConv2 (None, 16, 16, 728)  536536      block6_sepconv2_act[0][0]        \n",
      "__________________________________________________________________________________________________\n",
      "block6_sepconv2_bn (BatchNormal (None, 16, 16, 728)  2912        block6_sepconv2[0][0]            \n",
      "__________________________________________________________________________________________________\n",
      "block6_sepconv3_act (Activation (None, 16, 16, 728)  0           block6_sepconv2_bn[0][0]         \n",
      "__________________________________________________________________________________________________\n",
      "block6_sepconv3 (SeparableConv2 (None, 16, 16, 728)  536536      block6_sepconv3_act[0][0]        \n",
      "__________________________________________________________________________________________________\n",
      "block6_sepconv3_bn (BatchNormal (None, 16, 16, 728)  2912        block6_sepconv3[0][0]            \n",
      "__________________________________________________________________________________________________\n",
      "add_4 (Add)                     (None, 16, 16, 728)  0           block6_sepconv3_bn[0][0]         \n",
      "                                                                 add_3[0][0]                      \n",
      "__________________________________________________________________________________________________\n",
      "block7_sepconv1_act (Activation (None, 16, 16, 728)  0           add_4[0][0]                      \n",
      "__________________________________________________________________________________________________\n",
      "block7_sepconv1 (SeparableConv2 (None, 16, 16, 728)  536536      block7_sepconv1_act[0][0]        \n",
      "__________________________________________________________________________________________________\n",
      "block7_sepconv1_bn (BatchNormal (None, 16, 16, 728)  2912        block7_sepconv1[0][0]            \n",
      "__________________________________________________________________________________________________\n",
      "block7_sepconv2_act (Activation (None, 16, 16, 728)  0           block7_sepconv1_bn[0][0]         \n",
      "__________________________________________________________________________________________________\n",
      "block7_sepconv2 (SeparableConv2 (None, 16, 16, 728)  536536      block7_sepconv2_act[0][0]        \n",
      "__________________________________________________________________________________________________\n",
      "block7_sepconv2_bn (BatchNormal (None, 16, 16, 728)  2912        block7_sepconv2[0][0]            \n",
      "__________________________________________________________________________________________________\n",
      "block7_sepconv3_act (Activation (None, 16, 16, 728)  0           block7_sepconv2_bn[0][0]         \n",
      "__________________________________________________________________________________________________\n",
      "block7_sepconv3 (SeparableConv2 (None, 16, 16, 728)  536536      block7_sepconv3_act[0][0]        \n",
      "__________________________________________________________________________________________________\n",
      "block7_sepconv3_bn (BatchNormal (None, 16, 16, 728)  2912        block7_sepconv3[0][0]            \n",
      "__________________________________________________________________________________________________\n",
      "add_5 (Add)                     (None, 16, 16, 728)  0           block7_sepconv3_bn[0][0]         \n",
      "                                                                 add_4[0][0]                      \n",
      "__________________________________________________________________________________________________\n",
      "block8_sepconv1_act (Activation (None, 16, 16, 728)  0           add_5[0][0]                      \n",
      "__________________________________________________________________________________________________\n",
      "block8_sepconv1 (SeparableConv2 (None, 16, 16, 728)  536536      block8_sepconv1_act[0][0]        \n",
      "__________________________________________________________________________________________________\n",
      "block8_sepconv1_bn (BatchNormal (None, 16, 16, 728)  2912        block8_sepconv1[0][0]            \n",
      "__________________________________________________________________________________________________\n",
      "block8_sepconv2_act (Activation (None, 16, 16, 728)  0           block8_sepconv1_bn[0][0]         \n",
      "__________________________________________________________________________________________________\n",
      "block8_sepconv2 (SeparableConv2 (None, 16, 16, 728)  536536      block8_sepconv2_act[0][0]        \n",
      "__________________________________________________________________________________________________\n",
      "block8_sepconv2_bn (BatchNormal (None, 16, 16, 728)  2912        block8_sepconv2[0][0]            \n",
      "__________________________________________________________________________________________________\n",
      "block8_sepconv3_act (Activation (None, 16, 16, 728)  0           block8_sepconv2_bn[0][0]         \n",
      "__________________________________________________________________________________________________\n",
      "block8_sepconv3 (SeparableConv2 (None, 16, 16, 728)  536536      block8_sepconv3_act[0][0]        \n",
      "__________________________________________________________________________________________________\n",
      "block8_sepconv3_bn (BatchNormal (None, 16, 16, 728)  2912        block8_sepconv3[0][0]            \n",
      "__________________________________________________________________________________________________\n",
      "add_6 (Add)                     (None, 16, 16, 728)  0           block8_sepconv3_bn[0][0]         \n",
      "                                                                 add_5[0][0]                      \n",
      "__________________________________________________________________________________________________\n",
      "block9_sepconv1_act (Activation (None, 16, 16, 728)  0           add_6[0][0]                      \n",
      "__________________________________________________________________________________________________\n",
      "block9_sepconv1 (SeparableConv2 (None, 16, 16, 728)  536536      block9_sepconv1_act[0][0]        \n",
      "__________________________________________________________________________________________________\n",
      "block9_sepconv1_bn (BatchNormal (None, 16, 16, 728)  2912        block9_sepconv1[0][0]            \n",
      "__________________________________________________________________________________________________\n",
      "block9_sepconv2_act (Activation (None, 16, 16, 728)  0           block9_sepconv1_bn[0][0]         \n",
      "__________________________________________________________________________________________________\n",
      "block9_sepconv2 (SeparableConv2 (None, 16, 16, 728)  536536      block9_sepconv2_act[0][0]        \n",
      "__________________________________________________________________________________________________\n",
      "block9_sepconv2_bn (BatchNormal (None, 16, 16, 728)  2912        block9_sepconv2[0][0]            \n",
      "__________________________________________________________________________________________________\n",
      "block9_sepconv3_act (Activation (None, 16, 16, 728)  0           block9_sepconv2_bn[0][0]         \n",
      "__________________________________________________________________________________________________\n",
      "block9_sepconv3 (SeparableConv2 (None, 16, 16, 728)  536536      block9_sepconv3_act[0][0]        \n",
      "__________________________________________________________________________________________________\n",
      "block9_sepconv3_bn (BatchNormal (None, 16, 16, 728)  2912        block9_sepconv3[0][0]            \n",
      "__________________________________________________________________________________________________\n",
      "add_7 (Add)                     (None, 16, 16, 728)  0           block9_sepconv3_bn[0][0]         \n",
      "                                                                 add_6[0][0]                      \n",
      "__________________________________________________________________________________________________\n",
      "block10_sepconv1_act (Activatio (None, 16, 16, 728)  0           add_7[0][0]                      \n",
      "__________________________________________________________________________________________________\n",
      "block10_sepconv1 (SeparableConv (None, 16, 16, 728)  536536      block10_sepconv1_act[0][0]       \n",
      "__________________________________________________________________________________________________\n",
      "block10_sepconv1_bn (BatchNorma (None, 16, 16, 728)  2912        block10_sepconv1[0][0]           \n",
      "__________________________________________________________________________________________________\n",
      "block10_sepconv2_act (Activatio (None, 16, 16, 728)  0           block10_sepconv1_bn[0][0]        \n",
      "__________________________________________________________________________________________________\n",
      "block10_sepconv2 (SeparableConv (None, 16, 16, 728)  536536      block10_sepconv2_act[0][0]       \n",
      "__________________________________________________________________________________________________\n",
      "block10_sepconv2_bn (BatchNorma (None, 16, 16, 728)  2912        block10_sepconv2[0][0]           \n",
      "__________________________________________________________________________________________________\n",
      "block10_sepconv3_act (Activatio (None, 16, 16, 728)  0           block10_sepconv2_bn[0][0]        \n",
      "__________________________________________________________________________________________________\n",
      "block10_sepconv3 (SeparableConv (None, 16, 16, 728)  536536      block10_sepconv3_act[0][0]       \n",
      "__________________________________________________________________________________________________\n",
      "block10_sepconv3_bn (BatchNorma (None, 16, 16, 728)  2912        block10_sepconv3[0][0]           \n",
      "__________________________________________________________________________________________________\n",
      "add_8 (Add)                     (None, 16, 16, 728)  0           block10_sepconv3_bn[0][0]        \n",
      "                                                                 add_7[0][0]                      \n",
      "__________________________________________________________________________________________________\n",
      "block11_sepconv1_act (Activatio (None, 16, 16, 728)  0           add_8[0][0]                      \n",
      "__________________________________________________________________________________________________\n",
      "block11_sepconv1 (SeparableConv (None, 16, 16, 728)  536536      block11_sepconv1_act[0][0]       \n",
      "__________________________________________________________________________________________________\n",
      "block11_sepconv1_bn (BatchNorma (None, 16, 16, 728)  2912        block11_sepconv1[0][0]           \n",
      "__________________________________________________________________________________________________\n",
      "block11_sepconv2_act (Activatio (None, 16, 16, 728)  0           block11_sepconv1_bn[0][0]        \n",
      "__________________________________________________________________________________________________\n",
      "block11_sepconv2 (SeparableConv (None, 16, 16, 728)  536536      block11_sepconv2_act[0][0]       \n",
      "__________________________________________________________________________________________________\n",
      "block11_sepconv2_bn (BatchNorma (None, 16, 16, 728)  2912        block11_sepconv2[0][0]           \n",
      "__________________________________________________________________________________________________\n",
      "block11_sepconv3_act (Activatio (None, 16, 16, 728)  0           block11_sepconv2_bn[0][0]        \n",
      "__________________________________________________________________________________________________\n",
      "block11_sepconv3 (SeparableConv (None, 16, 16, 728)  536536      block11_sepconv3_act[0][0]       \n",
      "__________________________________________________________________________________________________\n",
      "block11_sepconv3_bn (BatchNorma (None, 16, 16, 728)  2912        block11_sepconv3[0][0]           \n",
      "__________________________________________________________________________________________________\n",
      "add_9 (Add)                     (None, 16, 16, 728)  0           block11_sepconv3_bn[0][0]        \n",
      "                                                                 add_8[0][0]                      \n",
      "__________________________________________________________________________________________________\n",
      "block12_sepconv1_act (Activatio (None, 16, 16, 728)  0           add_9[0][0]                      \n",
      "__________________________________________________________________________________________________\n",
      "block12_sepconv1 (SeparableConv (None, 16, 16, 728)  536536      block12_sepconv1_act[0][0]       \n",
      "__________________________________________________________________________________________________\n",
      "block12_sepconv1_bn (BatchNorma (None, 16, 16, 728)  2912        block12_sepconv1[0][0]           \n",
      "__________________________________________________________________________________________________\n",
      "block12_sepconv2_act (Activatio (None, 16, 16, 728)  0           block12_sepconv1_bn[0][0]        \n",
      "__________________________________________________________________________________________________\n",
      "block12_sepconv2 (SeparableConv (None, 16, 16, 728)  536536      block12_sepconv2_act[0][0]       \n",
      "__________________________________________________________________________________________________\n",
      "block12_sepconv2_bn (BatchNorma (None, 16, 16, 728)  2912        block12_sepconv2[0][0]           \n",
      "__________________________________________________________________________________________________\n",
      "block12_sepconv3_act (Activatio (None, 16, 16, 728)  0           block12_sepconv2_bn[0][0]        \n",
      "__________________________________________________________________________________________________\n",
      "block12_sepconv3 (SeparableConv (None, 16, 16, 728)  536536      block12_sepconv3_act[0][0]       \n",
      "__________________________________________________________________________________________________\n",
      "block12_sepconv3_bn (BatchNorma (None, 16, 16, 728)  2912        block12_sepconv3[0][0]           \n",
      "__________________________________________________________________________________________________\n",
      "add_10 (Add)                    (None, 16, 16, 728)  0           block12_sepconv3_bn[0][0]        \n",
      "                                                                 add_9[0][0]                      \n",
      "__________________________________________________________________________________________________\n",
      "block13_sepconv1_act (Activatio (None, 16, 16, 728)  0           add_10[0][0]                     \n",
      "__________________________________________________________________________________________________\n",
      "block13_sepconv1 (SeparableConv (None, 16, 16, 728)  536536      block13_sepconv1_act[0][0]       \n",
      "__________________________________________________________________________________________________\n",
      "block13_sepconv1_bn (BatchNorma (None, 16, 16, 728)  2912        block13_sepconv1[0][0]           \n",
      "__________________________________________________________________________________________________\n",
      "block13_sepconv2_act (Activatio (None, 16, 16, 728)  0           block13_sepconv1_bn[0][0]        \n",
      "__________________________________________________________________________________________________\n",
      "block13_sepconv2 (SeparableConv (None, 16, 16, 1024) 752024      block13_sepconv2_act[0][0]       \n",
      "__________________________________________________________________________________________________\n",
      "block13_sepconv2_bn (BatchNorma (None, 16, 16, 1024) 4096        block13_sepconv2[0][0]           \n",
      "__________________________________________________________________________________________________\n",
      "conv2d_3 (Conv2D)               (None, 8, 8, 1024)   745472      add_10[0][0]                     \n",
      "__________________________________________________________________________________________________\n",
      "block13_pool (MaxPooling2D)     (None, 8, 8, 1024)   0           block13_sepconv2_bn[0][0]        \n",
      "__________________________________________________________________________________________________\n",
      "batch_normalization_3 (BatchNor (None, 8, 8, 1024)   4096        conv2d_3[0][0]                   \n",
      "__________________________________________________________________________________________________\n",
      "add_11 (Add)                    (None, 8, 8, 1024)   0           block13_pool[0][0]               \n",
      "                                                                 batch_normalization_3[0][0]      \n",
      "__________________________________________________________________________________________________\n",
      "block14_sepconv1 (SeparableConv (None, 8, 8, 1536)   1582080     add_11[0][0]                     \n",
      "__________________________________________________________________________________________________\n",
      "block14_sepconv1_bn (BatchNorma (None, 8, 8, 1536)   6144        block14_sepconv1[0][0]           \n",
      "__________________________________________________________________________________________________\n",
      "block14_sepconv1_act (Activatio (None, 8, 8, 1536)   0           block14_sepconv1_bn[0][0]        \n",
      "__________________________________________________________________________________________________\n",
      "block14_sepconv2 (SeparableConv (None, 8, 8, 2048)   3159552     block14_sepconv1_act[0][0]       \n",
      "__________________________________________________________________________________________________\n",
      "block14_sepconv2_bn (BatchNorma (None, 8, 8, 2048)   8192        block14_sepconv2[0][0]           \n",
      "__________________________________________________________________________________________________\n",
      "block14_sepconv2_act (Activatio (None, 8, 8, 2048)   0           block14_sepconv2_bn[0][0]        \n",
      "__________________________________________________________________________________________________\n",
      "flatten (Flatten)               (None, 131072)       0           block14_sepconv2_act[0][0]       \n",
      "__________________________________________________________________________________________________\n",
      "dense (Dense)                   (None, 256)          33554688    flatten[0][0]                    \n",
      "__________________________________________________________________________________________________\n",
      "dense_1 (Dense)                 (None, 1)            257         dense[0][0]                      \n",
      "==================================================================================================\n",
      "Total params: 54,416,425\n",
      "Trainable params: 54,361,897\n",
      "Non-trainable params: 54,528\n",
      "__________________________________________________________________________________________________\n"
     ]
    }
   ],
   "source": [
    "model.summary()"
   ]
  },
  {
   "cell_type": "code",
   "execution_count": 28,
   "metadata": {
    "colab": {},
    "colab_type": "code",
    "executionInfo": {
     "elapsed": 57122,
     "status": "ok",
     "timestamp": 1594861934956,
     "user": {
      "displayName": "dongmin kim",
      "photoUrl": "",
      "userId": "18288781491500504816"
     },
     "user_tz": -540
    },
    "id": "g2uCmYuC_QFB"
   },
   "outputs": [],
   "source": [
    "from tensorflow.keras.callbacks import ReduceLROnPlateau, ModelCheckpoint, EarlyStopping\n",
    "from tensorflow.keras import backend as K"
   ]
  },
  {
   "cell_type": "code",
   "execution_count": 29,
   "metadata": {},
   "outputs": [],
   "source": [
    "class CyclicLR(tf.keras.callbacks.Callback):\n",
    "    \"\"\"This callback implements a cyclical learning rate policy (CLR).\n",
    "    The method cycles the learning rate between two boundaries with\n",
    "    some constant frequency, as detailed in this paper (https://arxiv.org/abs/1506.01186).\n",
    "    \"\"\"\n",
    "\n",
    "    def __init__(self, base_lr=0.001, max_lr=0.006, step_size=2000., mode='triangular',\n",
    "                 gamma=1., scale_fn=None, scale_mode='cycle'):\n",
    "        super(CyclicLR, self).__init__()\n",
    "\n",
    "        self.base_lr = base_lr\n",
    "        self.max_lr = max_lr\n",
    "        self.step_size = step_size\n",
    "        self.mode = mode\n",
    "        self.gamma = gamma\n",
    "        if scale_fn == None:\n",
    "            if self.mode == 'triangular':\n",
    "                self.scale_fn = lambda x: 1.\n",
    "                self.scale_mode = 'cycle'\n",
    "            elif self.mode == 'triangular2':\n",
    "                self.scale_fn = lambda x: 1/(2.**(x-1))\n",
    "                self.scale_mode = 'cycle'\n",
    "            elif self.mode == 'exp_range':\n",
    "                self.scale_fn = lambda x: gamma**(x)\n",
    "                self.scale_mode = 'iterations'\n",
    "        else:\n",
    "            self.scale_fn = scale_fn\n",
    "            self.scale_mode = scale_mode\n",
    "        self.clr_iterations = 0.\n",
    "        self.trn_iterations = 0.\n",
    "        self.history = {}\n",
    "\n",
    "        self._reset()\n",
    "\n",
    "    def _reset(self, new_base_lr=None, new_max_lr=None,\n",
    "               new_step_size=None):\n",
    "        \"\"\"Resets cycle iterations.\n",
    "        Optional boundary/step size adjustment.\n",
    "        \"\"\"\n",
    "        if new_base_lr != None:\n",
    "            self.base_lr = new_base_lr\n",
    "        if new_max_lr != None:\n",
    "            self.max_lr = new_max_lr\n",
    "        if new_step_size != None:\n",
    "            self.step_size = new_step_size\n",
    "        self.clr_iterations = 0.\n",
    "        \n",
    "    def clr(self):\n",
    "        cycle = np.floor(1+self.clr_iterations/(2*self.step_size))\n",
    "        x = np.abs(self.clr_iterations/self.step_size - 2*cycle + 1)\n",
    "        if self.scale_mode == 'cycle':\n",
    "            return self.base_lr + (self.max_lr-self.base_lr)*np.maximum(0, (1-x))*self.scale_fn(cycle)\n",
    "        else:\n",
    "            return self.base_lr + (self.max_lr-self.base_lr)*np.maximum(0, (1-x))*self.scale_fn(self.clr_iterations)\n",
    "        \n",
    "    def on_train_begin(self, logs={}):\n",
    "        logs = logs or {}\n",
    "\n",
    "        if self.clr_iterations == 0:\n",
    "            K.set_value(self.model.optimizer.lr, self.base_lr)\n",
    "        else:\n",
    "            K.set_value(self.model.optimizer.lr, self.clr())        \n",
    "            \n",
    "    def on_batch_end(self, epoch, logs=None):\n",
    "        \n",
    "        logs = logs or {}\n",
    "        self.trn_iterations += 1\n",
    "        self.clr_iterations += 1\n",
    "\n",
    "        self.history.setdefault('lr', []).append(K.get_value(self.model.optimizer.lr))\n",
    "        self.history.setdefault('iterations', []).append(self.trn_iterations)\n",
    "\n",
    "        for k, v in logs.items():\n",
    "            self.history.setdefault(k, []).append(v)\n",
    "        \n",
    "        K.set_value(self.model.optimizer.lr, self.clr())"
   ]
  },
  {
   "cell_type": "code",
   "execution_count": 30,
   "metadata": {
    "colab": {},
    "colab_type": "code",
    "executionInfo": {
     "elapsed": 57119,
     "status": "ok",
     "timestamp": 1594861934957,
     "user": {
      "displayName": "dongmin kim",
      "photoUrl": "",
      "userId": "18288781491500504816"
     },
     "user_tz": -540
    },
    "id": "Gg-pDKlNjjf1"
   },
   "outputs": [],
   "source": [
    "def train_model(model, train_generator, validation_generator, test_generator, optimizer):\n",
    "    # checkpointing\n",
    "    filename = 'checkpoint-TK-smalldata.h5'\n",
    "    checkpoint = ModelCheckpoint(\n",
    "                        filename, \n",
    "                        monitor='val_loss',\n",
    "                        verbose=1,           \n",
    "                        save_best_only=True,\n",
    "                        mode='auto'\n",
    "                )\n",
    "    # early stopping\n",
    "    early_stopping = EarlyStopping(monitor='val_accuracy', patience=10)\n",
    "    \n",
    "    # Cyclic Learning Rate\n",
    "    clr = CyclicLR(\n",
    "        base_lr=1e-3,#0.001, \n",
    "        max_lr=7e-3,#0.007,\n",
    "        step_size=300., \n",
    "        mode='exp_range',\n",
    "        gamma=0.99994\n",
    "    )\n",
    "    \n",
    "    # compile\n",
    "    model.compile(\n",
    "        optimizer = optimizer,\n",
    "        loss = 'binary_crossentropy',\n",
    "        metrics=['accuracy'],\n",
    "    )\n",
    "    \n",
    "    # train\n",
    "    print(\"== Start Training ==\")\n",
    "    history = model.fit(\n",
    "        train_generator,\n",
    "        steps_per_epoch = train_length // BATCH_SIZE, \n",
    "        epochs = EPOCHS,\n",
    "        validation_data = validation_generator,\n",
    "        validation_steps = validation_length // BATCH_SIZE,\n",
    "        callbacks=[checkpoint, clr],\n",
    "    )\n",
    "    \n",
    "    return history"
   ]
  },
  {
   "cell_type": "code",
   "execution_count": 31,
   "metadata": {
    "colab": {
     "base_uri": "https://localhost:8080/",
     "height": 1000
    },
    "colab_type": "code",
    "executionInfo": {
     "elapsed": 8202582,
     "status": "ok",
     "timestamp": 1594870080429,
     "user": {
      "displayName": "dongmin kim",
      "photoUrl": "",
      "userId": "18288781491500504816"
     },
     "user_tz": -540
    },
    "id": "JzhaoVTjPPw-",
    "outputId": "44580b4c-b6d8-45bb-c65e-ecf7a1ae9c12",
    "scrolled": false
   },
   "outputs": [
    {
     "name": "stdout",
     "output_type": "stream",
     "text": [
      "== Start Training ==\n",
      "Epoch 1/100\n",
      "505/506 [============================>.] - ETA: 0s - loss: 0.7541 - accuracy: 0.5925\n",
      "Epoch 00001: val_loss improved from inf to 0.68947, saving model to checkpoint-TK-smalldata.h5\n",
      "506/506 [==============================] - 376s 743ms/step - loss: 0.7540 - accuracy: 0.5923 - val_loss: 0.6895 - val_accuracy: 0.5458\n",
      "Epoch 2/100\n",
      "505/506 [============================>.] - ETA: 0s - loss: 0.6599 - accuracy: 0.6115\n",
      "Epoch 00002: val_loss improved from 0.68947 to 0.64561, saving model to checkpoint-TK-smalldata.h5\n",
      "506/506 [==============================] - 317s 627ms/step - loss: 0.6601 - accuracy: 0.6111 - val_loss: 0.6456 - val_accuracy: 0.6239\n",
      "Epoch 3/100\n",
      "505/506 [============================>.] - ETA: 0s - loss: 0.6231 - accuracy: 0.6384\n",
      "Epoch 00003: val_loss did not improve from 0.64561\n",
      "506/506 [==============================] - 317s 626ms/step - loss: 0.6231 - accuracy: 0.6384 - val_loss: 0.6820 - val_accuracy: 0.5887\n",
      "Epoch 4/100\n",
      "505/506 [============================>.] - ETA: 0s - loss: 0.5954 - accuracy: 0.6720\n",
      "Epoch 00004: val_loss improved from 0.64561 to 0.61432, saving model to checkpoint-TK-smalldata.h5\n",
      "506/506 [==============================] - 321s 634ms/step - loss: 0.5953 - accuracy: 0.6722 - val_loss: 0.6143 - val_accuracy: 0.6602\n",
      "Epoch 5/100\n",
      "505/506 [============================>.] - ETA: 0s - loss: 0.5860 - accuracy: 0.6798\n",
      "Epoch 00005: val_loss improved from 0.61432 to 0.59833, saving model to checkpoint-TK-smalldata.h5\n",
      "506/506 [==============================] - 318s 629ms/step - loss: 0.5862 - accuracy: 0.6797 - val_loss: 0.5983 - val_accuracy: 0.6819\n",
      "Epoch 6/100\n",
      "505/506 [============================>.] - ETA: 0s - loss: 0.5847 - accuracy: 0.6840\n",
      "Epoch 00006: val_loss improved from 0.59833 to 0.56913, saving model to checkpoint-TK-smalldata.h5\n",
      "506/506 [==============================] - 319s 629ms/step - loss: 0.5849 - accuracy: 0.6840 - val_loss: 0.5691 - val_accuracy: 0.7003\n",
      "Epoch 7/100\n",
      "505/506 [============================>.] - ETA: 0s - loss: 0.5728 - accuracy: 0.6935\n",
      "Epoch 00007: val_loss improved from 0.56913 to 0.54411, saving model to checkpoint-TK-smalldata.h5\n",
      "506/506 [==============================] - 315s 623ms/step - loss: 0.5729 - accuracy: 0.6934 - val_loss: 0.5441 - val_accuracy: 0.7081\n",
      "Epoch 8/100\n",
      "505/506 [============================>.] - ETA: 0s - loss: 0.5591 - accuracy: 0.7023\n",
      "Epoch 00008: val_loss did not improve from 0.54411\n",
      "506/506 [==============================] - 314s 620ms/step - loss: 0.5590 - accuracy: 0.7024 - val_loss: 0.8011 - val_accuracy: 0.6004\n",
      "Epoch 9/100\n",
      "505/506 [============================>.] - ETA: 0s - loss: 0.5473 - accuracy: 0.7155\n",
      "Epoch 00009: val_loss did not improve from 0.54411\n",
      "506/506 [==============================] - 314s 620ms/step - loss: 0.5472 - accuracy: 0.7155 - val_loss: 0.6266 - val_accuracy: 0.6456\n",
      "Epoch 10/100\n",
      "505/506 [============================>.] - ETA: 0s - loss: 0.5406 - accuracy: 0.7167\n",
      "Epoch 00010: val_loss did not improve from 0.54411\n",
      "506/506 [==============================] - 318s 629ms/step - loss: 0.5404 - accuracy: 0.7169 - val_loss: 0.5874 - val_accuracy: 0.6992\n",
      "Epoch 11/100\n",
      "505/506 [============================>.] - ETA: 0s - loss: 0.5294 - accuracy: 0.7260\n",
      "Epoch 00011: val_loss did not improve from 0.54411\n",
      "506/506 [==============================] - 313s 619ms/step - loss: 0.5294 - accuracy: 0.7260 - val_loss: 0.5718 - val_accuracy: 0.6897\n",
      "Epoch 12/100\n",
      "505/506 [============================>.] - ETA: 0s - loss: 0.5347 - accuracy: 0.7245\n",
      "Epoch 00012: val_loss improved from 0.54411 to 0.51966, saving model to checkpoint-TK-smalldata.h5\n",
      "506/506 [==============================] - 317s 627ms/step - loss: 0.5346 - accuracy: 0.7245 - val_loss: 0.5197 - val_accuracy: 0.7132\n",
      "Epoch 13/100\n",
      "505/506 [============================>.] - ETA: 0s - loss: 0.5235 - accuracy: 0.7321\n",
      "Epoch 00013: val_loss did not improve from 0.51966\n",
      "506/506 [==============================] - 314s 621ms/step - loss: 0.5235 - accuracy: 0.7320 - val_loss: 0.5390 - val_accuracy: 0.7271\n",
      "Epoch 14/100\n",
      "505/506 [============================>.] - ETA: 0s - loss: 0.5170 - accuracy: 0.7326\n",
      "Epoch 00014: val_loss did not improve from 0.51966\n",
      "506/506 [==============================] - 313s 619ms/step - loss: 0.5172 - accuracy: 0.7326 - val_loss: 0.6275 - val_accuracy: 0.6618\n",
      "Epoch 15/100\n",
      "505/506 [============================>.] - ETA: 0s - loss: 0.5215 - accuracy: 0.7369\n",
      "Epoch 00015: val_loss did not improve from 0.51966\n",
      "506/506 [==============================] - 313s 618ms/step - loss: 0.5216 - accuracy: 0.7368 - val_loss: 1.3188 - val_accuracy: 0.6021\n",
      "Epoch 16/100\n",
      "505/506 [============================>.] - ETA: 0s - loss: 0.5242 - accuracy: 0.7353\n",
      "Epoch 00016: val_loss did not improve from 0.51966\n",
      "506/506 [==============================] - 313s 618ms/step - loss: 0.5244 - accuracy: 0.7352 - val_loss: 0.9291 - val_accuracy: 0.6914\n",
      "Epoch 17/100\n",
      "505/506 [============================>.] - ETA: 0s - loss: 0.4973 - accuracy: 0.7509\n",
      "Epoch 00017: val_loss did not improve from 0.51966\n",
      "506/506 [==============================] - 310s 613ms/step - loss: 0.4972 - accuracy: 0.7510 - val_loss: 0.5354 - val_accuracy: 0.7282\n",
      "Epoch 18/100\n",
      "505/506 [============================>.] - ETA: 0s - loss: 0.4984 - accuracy: 0.7484\n",
      "Epoch 00018: val_loss improved from 0.51966 to 0.49175, saving model to checkpoint-TK-smalldata.h5\n",
      "506/506 [==============================] - 313s 618ms/step - loss: 0.4981 - accuracy: 0.7487 - val_loss: 0.4918 - val_accuracy: 0.7483\n",
      "Epoch 19/100\n",
      "505/506 [============================>.] - ETA: 0s - loss: 0.4894 - accuracy: 0.7561\n",
      "Epoch 00019: val_loss improved from 0.49175 to 0.47630, saving model to checkpoint-TK-smalldata.h5\n",
      "506/506 [==============================] - 321s 634ms/step - loss: 0.4894 - accuracy: 0.7561 - val_loss: 0.4763 - val_accuracy: 0.7533\n",
      "Epoch 20/100\n",
      "505/506 [============================>.] - ETA: 0s - loss: 0.4878 - accuracy: 0.7590\n",
      "Epoch 00020: val_loss did not improve from 0.47630\n",
      "506/506 [==============================] - 316s 625ms/step - loss: 0.4878 - accuracy: 0.7590 - val_loss: 0.5346 - val_accuracy: 0.7015\n",
      "Epoch 21/100\n",
      "505/506 [============================>.] - ETA: 0s - loss: 0.4689 - accuracy: 0.7703\n",
      "Epoch 00021: val_loss did not improve from 0.47630\n",
      "506/506 [==============================] - 316s 625ms/step - loss: 0.4689 - accuracy: 0.7702 - val_loss: 0.4991 - val_accuracy: 0.7433\n",
      "Epoch 22/100\n",
      "505/506 [============================>.] - ETA: 0s - loss: 0.4507 - accuracy: 0.7832\n",
      "Epoch 00022: val_loss did not improve from 0.47630\n",
      "506/506 [==============================] - 308s 609ms/step - loss: 0.4511 - accuracy: 0.7828 - val_loss: 0.6782 - val_accuracy: 0.6842\n",
      "Epoch 23/100\n",
      "505/506 [============================>.] - ETA: 0s - loss: 0.4651 - accuracy: 0.7752\n",
      "Epoch 00023: val_loss did not improve from 0.47630\n",
      "506/506 [==============================] - 313s 619ms/step - loss: 0.4651 - accuracy: 0.7752 - val_loss: 0.4784 - val_accuracy: 0.7584\n",
      "Epoch 24/100\n",
      "505/506 [============================>.] - ETA: 0s - loss: 0.4452 - accuracy: 0.7811\n",
      "Epoch 00024: val_loss improved from 0.47630 to 0.47620, saving model to checkpoint-TK-smalldata.h5\n",
      "506/506 [==============================] - 317s 626ms/step - loss: 0.4450 - accuracy: 0.7812 - val_loss: 0.4762 - val_accuracy: 0.7684\n",
      "Epoch 25/100\n",
      "505/506 [============================>.] - ETA: 0s - loss: 0.4678 - accuracy: 0.7750\n",
      "Epoch 00025: val_loss improved from 0.47620 to 0.46164, saving model to checkpoint-TK-smalldata.h5\n",
      "506/506 [==============================] - 313s 619ms/step - loss: 0.4680 - accuracy: 0.7749 - val_loss: 0.4616 - val_accuracy: 0.7679\n",
      "Epoch 26/100\n",
      "505/506 [============================>.] - ETA: 0s - loss: 0.4412 - accuracy: 0.7905\n",
      "Epoch 00026: val_loss did not improve from 0.46164\n",
      "506/506 [==============================] - 312s 617ms/step - loss: 0.4414 - accuracy: 0.7903 - val_loss: 0.4673 - val_accuracy: 0.7695\n",
      "Epoch 27/100\n",
      "505/506 [============================>.] - ETA: 0s - loss: 0.4205 - accuracy: 0.8020\n",
      "Epoch 00027: val_loss did not improve from 0.46164\n",
      "506/506 [==============================] - 313s 619ms/step - loss: 0.4202 - accuracy: 0.8021 - val_loss: 0.6602 - val_accuracy: 0.7388\n"
     ]
    },
    {
     "name": "stdout",
     "output_type": "stream",
     "text": [
      "Epoch 28/100\n",
      "505/506 [============================>.] - ETA: 0s - loss: 0.4000 - accuracy: 0.8140\n",
      "Epoch 00028: val_loss did not improve from 0.46164\n",
      "506/506 [==============================] - 315s 622ms/step - loss: 0.4000 - accuracy: 0.8141 - val_loss: 0.6921 - val_accuracy: 0.7204\n",
      "Epoch 29/100\n",
      "505/506 [============================>.] - ETA: 0s - loss: 0.3913 - accuracy: 0.8157\n",
      "Epoch 00029: val_loss did not improve from 0.46164\n",
      "506/506 [==============================] - 318s 628ms/step - loss: 0.3912 - accuracy: 0.8156 - val_loss: 0.5218 - val_accuracy: 0.7612\n",
      "Epoch 30/100\n",
      "505/506 [============================>.] - ETA: 0s - loss: 0.3871 - accuracy: 0.8233\n",
      "Epoch 00030: val_loss improved from 0.46164 to 0.43703, saving model to checkpoint-TK-smalldata.h5\n",
      "506/506 [==============================] - 319s 631ms/step - loss: 0.3871 - accuracy: 0.8234 - val_loss: 0.4370 - val_accuracy: 0.7868\n",
      "Epoch 31/100\n",
      "505/506 [============================>.] - ETA: 0s - loss: 0.3737 - accuracy: 0.8291\n",
      "Epoch 00031: val_loss did not improve from 0.43703\n",
      "506/506 [==============================] - 318s 629ms/step - loss: 0.3740 - accuracy: 0.8290 - val_loss: 0.4763 - val_accuracy: 0.7863\n",
      "Epoch 32/100\n",
      "505/506 [============================>.] - ETA: 0s - loss: 0.3640 - accuracy: 0.8357\n",
      "Epoch 00032: val_loss improved from 0.43703 to 0.40368, saving model to checkpoint-TK-smalldata.h5\n",
      "506/506 [==============================] - 315s 623ms/step - loss: 0.3640 - accuracy: 0.8357 - val_loss: 0.4037 - val_accuracy: 0.8092\n",
      "Epoch 33/100\n",
      "505/506 [============================>.] - ETA: 0s - loss: 0.3540 - accuracy: 0.8375\n",
      "Epoch 00033: val_loss did not improve from 0.40368\n",
      "506/506 [==============================] - 313s 618ms/step - loss: 0.3538 - accuracy: 0.8376 - val_loss: 0.4779 - val_accuracy: 0.7896\n",
      "Epoch 34/100\n",
      "505/506 [============================>.] - ETA: 0s - loss: 0.3400 - accuracy: 0.8443\n",
      "Epoch 00034: val_loss did not improve from 0.40368\n",
      "506/506 [==============================] - 313s 619ms/step - loss: 0.3407 - accuracy: 0.8438 - val_loss: 0.6017 - val_accuracy: 0.7506\n",
      "Epoch 35/100\n",
      "505/506 [============================>.] - ETA: 0s - loss: 0.3286 - accuracy: 0.8544\n",
      "Epoch 00035: val_loss did not improve from 0.40368\n",
      "506/506 [==============================] - 319s 631ms/step - loss: 0.3288 - accuracy: 0.8545 - val_loss: 0.4648 - val_accuracy: 0.7656\n",
      "Epoch 36/100\n",
      "505/506 [============================>.] - ETA: 0s - loss: 0.3110 - accuracy: 0.8648\n",
      "Epoch 00036: val_loss did not improve from 0.40368\n",
      "506/506 [==============================] - 319s 630ms/step - loss: 0.3107 - accuracy: 0.8650 - val_loss: 0.4548 - val_accuracy: 0.7812\n",
      "Epoch 37/100\n",
      "505/506 [============================>.] - ETA: 0s - loss: 0.3043 - accuracy: 0.8667\n",
      "Epoch 00037: val_loss did not improve from 0.40368\n",
      "506/506 [==============================] - 321s 633ms/step - loss: 0.3044 - accuracy: 0.8666 - val_loss: 0.5043 - val_accuracy: 0.7963\n",
      "Epoch 38/100\n",
      "505/506 [============================>.] - ETA: 0s - loss: 0.2983 - accuracy: 0.8721\n",
      "Epoch 00038: val_loss improved from 0.40368 to 0.38324, saving model to checkpoint-TK-smalldata.h5\n",
      "506/506 [==============================] - 326s 644ms/step - loss: 0.2979 - accuracy: 0.8723 - val_loss: 0.3832 - val_accuracy: 0.8410\n",
      "Epoch 39/100\n",
      "505/506 [============================>.] - ETA: 0s - loss: 0.2886 - accuracy: 0.8761\n",
      "Epoch 00039: val_loss did not improve from 0.38324\n",
      "506/506 [==============================] - 323s 639ms/step - loss: 0.2883 - accuracy: 0.8763 - val_loss: 0.3988 - val_accuracy: 0.8225\n",
      "Epoch 40/100\n",
      "505/506 [============================>.] - ETA: 0s - loss: 0.2731 - accuracy: 0.8828\n",
      "Epoch 00040: val_loss did not improve from 0.38324\n",
      "506/506 [==============================] - 317s 627ms/step - loss: 0.2730 - accuracy: 0.8829 - val_loss: 0.4431 - val_accuracy: 0.8064\n",
      "Epoch 41/100\n",
      "505/506 [============================>.] - ETA: 0s - loss: 0.2539 - accuracy: 0.8922\n",
      "Epoch 00041: val_loss did not improve from 0.38324\n",
      "506/506 [==============================] - 320s 633ms/step - loss: 0.2543 - accuracy: 0.8921 - val_loss: 0.4616 - val_accuracy: 0.8013\n",
      "Epoch 42/100\n",
      "505/506 [============================>.] - ETA: 0s - loss: 0.2453 - accuracy: 0.8970\n",
      "Epoch 00042: val_loss did not improve from 0.38324\n",
      "506/506 [==============================] - 318s 629ms/step - loss: 0.2452 - accuracy: 0.8970 - val_loss: 0.4117 - val_accuracy: 0.8287\n",
      "Epoch 43/100\n",
      "505/506 [============================>.] - ETA: 0s - loss: 0.2440 - accuracy: 0.8981\n",
      "Epoch 00043: val_loss did not improve from 0.38324\n",
      "506/506 [==============================] - 319s 631ms/step - loss: 0.2442 - accuracy: 0.8980 - val_loss: 0.4246 - val_accuracy: 0.8281\n",
      "Epoch 44/100\n",
      "505/506 [============================>.] - ETA: 0s - loss: 0.3103 - accuracy: 0.8694\n",
      "Epoch 00044: val_loss did not improve from 0.38324\n",
      "506/506 [==============================] - 322s 636ms/step - loss: 0.3102 - accuracy: 0.8694 - val_loss: 0.4316 - val_accuracy: 0.8136\n",
      "Epoch 45/100\n",
      "505/506 [============================>.] - ETA: 0s - loss: 0.2503 - accuracy: 0.8969\n",
      "Epoch 00045: val_loss did not improve from 0.38324\n",
      "506/506 [==============================] - 312s 617ms/step - loss: 0.2503 - accuracy: 0.8970 - val_loss: 0.5011 - val_accuracy: 0.7963\n",
      "Epoch 46/100\n",
      "505/506 [============================>.] - ETA: 0s - loss: 0.2267 - accuracy: 0.9054\n",
      "Epoch 00046: val_loss did not improve from 0.38324\n",
      "506/506 [==============================] - 306s 604ms/step - loss: 0.2267 - accuracy: 0.9054 - val_loss: 0.4369 - val_accuracy: 0.8242\n",
      "Epoch 47/100\n",
      "505/506 [============================>.] - ETA: 0s - loss: 0.2059 - accuracy: 0.9150\n",
      "Epoch 00047: val_loss did not improve from 0.38324\n",
      "506/506 [==============================] - 304s 601ms/step - loss: 0.2058 - accuracy: 0.9151 - val_loss: 0.5768 - val_accuracy: 0.8013\n",
      "Epoch 48/100\n",
      "505/506 [============================>.] - ETA: 0s - loss: 0.1870 - accuracy: 0.9234\n",
      "Epoch 00048: val_loss did not improve from 0.38324\n",
      "506/506 [==============================] - 303s 598ms/step - loss: 0.1869 - accuracy: 0.9234 - val_loss: 0.6724 - val_accuracy: 0.7863\n",
      "Epoch 49/100\n",
      "505/506 [============================>.] - ETA: 0s - loss: 0.1894 - accuracy: 0.9207\n",
      "Epoch 00049: val_loss did not improve from 0.38324\n",
      "506/506 [==============================] - 306s 604ms/step - loss: 0.1894 - accuracy: 0.9207 - val_loss: 0.4287 - val_accuracy: 0.8343\n",
      "Epoch 50/100\n",
      "505/506 [============================>.] - ETA: 0s - loss: 0.1796 - accuracy: 0.9283\n",
      "Epoch 00050: val_loss did not improve from 0.38324\n",
      "506/506 [==============================] - 306s 605ms/step - loss: 0.1794 - accuracy: 0.9284 - val_loss: 0.4047 - val_accuracy: 0.8544\n",
      "Epoch 51/100\n",
      "505/506 [============================>.] - ETA: 0s - loss: 0.1808 - accuracy: 0.9276\n",
      "Epoch 00051: val_loss did not improve from 0.38324\n",
      "506/506 [==============================] - 300s 594ms/step - loss: 0.1810 - accuracy: 0.9275 - val_loss: 0.4587 - val_accuracy: 0.8298\n",
      "Epoch 52/100\n",
      "505/506 [============================>.] - ETA: 0s - loss: 0.1638 - accuracy: 0.9352\n",
      "Epoch 00052: val_loss did not improve from 0.38324\n",
      "506/506 [==============================] - 304s 601ms/step - loss: 0.1638 - accuracy: 0.9353 - val_loss: 0.4239 - val_accuracy: 0.8432\n",
      "Epoch 53/100\n",
      "505/506 [============================>.] - ETA: 0s - loss: 0.1595 - accuracy: 0.9377\n",
      "Epoch 00053: val_loss did not improve from 0.38324\n",
      "506/506 [==============================] - 304s 600ms/step - loss: 0.1594 - accuracy: 0.9378 - val_loss: 0.4661 - val_accuracy: 0.8270\n",
      "Epoch 54/100\n",
      "505/506 [============================>.] - ETA: 0s - loss: 0.1467 - accuracy: 0.9418\n",
      "Epoch 00054: val_loss did not improve from 0.38324\n",
      "506/506 [==============================] - 315s 622ms/step - loss: 0.1465 - accuracy: 0.9419 - val_loss: 0.4138 - val_accuracy: 0.8298\n",
      "Epoch 55/100\n",
      "505/506 [============================>.] - ETA: 0s - loss: 0.1440 - accuracy: 0.9432\n",
      "Epoch 00055: val_loss did not improve from 0.38324\n",
      "506/506 [==============================] - 307s 607ms/step - loss: 0.1439 - accuracy: 0.9432 - val_loss: 0.5974 - val_accuracy: 0.7785\n",
      "Epoch 56/100\n"
     ]
    },
    {
     "name": "stdout",
     "output_type": "stream",
     "text": [
      "505/506 [============================>.] - ETA: 0s - loss: 0.1375 - accuracy: 0.9447\n",
      "Epoch 00056: val_loss did not improve from 0.38324\n",
      "506/506 [==============================] - 306s 606ms/step - loss: 0.1377 - accuracy: 0.9446 - val_loss: 0.4443 - val_accuracy: 0.8415\n",
      "Epoch 57/100\n",
      "505/506 [============================>.] - ETA: 0s - loss: 0.1405 - accuracy: 0.9450\n",
      "Epoch 00057: val_loss did not improve from 0.38324\n",
      "506/506 [==============================] - 304s 600ms/step - loss: 0.1405 - accuracy: 0.9450 - val_loss: 0.4503 - val_accuracy: 0.8504\n",
      "Epoch 58/100\n",
      "505/506 [============================>.] - ETA: 0s - loss: 0.1322 - accuracy: 0.9478\n",
      "Epoch 00058: val_loss did not improve from 0.38324\n",
      "506/506 [==============================] - 304s 601ms/step - loss: 0.1322 - accuracy: 0.9478 - val_loss: 0.4405 - val_accuracy: 0.8577\n",
      "Epoch 59/100\n",
      "505/506 [============================>.] - ETA: 0s - loss: 0.1257 - accuracy: 0.9514\n",
      "Epoch 00059: val_loss did not improve from 0.38324\n",
      "506/506 [==============================] - 304s 601ms/step - loss: 0.1258 - accuracy: 0.9514 - val_loss: 0.5614 - val_accuracy: 0.8499\n",
      "Epoch 60/100\n",
      "505/506 [============================>.] - ETA: 0s - loss: 0.1149 - accuracy: 0.9563\n",
      "Epoch 00060: val_loss did not improve from 0.38324\n",
      "506/506 [==============================] - 305s 602ms/step - loss: 0.1150 - accuracy: 0.9562 - val_loss: 0.6945 - val_accuracy: 0.7919\n",
      "Epoch 61/100\n",
      "505/506 [============================>.] - ETA: 0s - loss: 0.1107 - accuracy: 0.9562\n",
      "Epoch 00061: val_loss did not improve from 0.38324\n",
      "506/506 [==============================] - 305s 603ms/step - loss: 0.1108 - accuracy: 0.9561 - val_loss: 0.4221 - val_accuracy: 0.8544\n",
      "Epoch 62/100\n",
      "505/506 [============================>.] - ETA: 0s - loss: 0.1102 - accuracy: 0.9572\n",
      "Epoch 00062: val_loss did not improve from 0.38324\n",
      "506/506 [==============================] - 307s 607ms/step - loss: 0.1102 - accuracy: 0.9571 - val_loss: 0.4244 - val_accuracy: 0.8583\n",
      "Epoch 63/100\n",
      "505/506 [============================>.] - ETA: 0s - loss: 0.1079 - accuracy: 0.9582\n",
      "Epoch 00063: val_loss did not improve from 0.38324\n",
      "506/506 [==============================] - 304s 600ms/step - loss: 0.1080 - accuracy: 0.9581 - val_loss: 0.4577 - val_accuracy: 0.8555\n",
      "Epoch 64/100\n",
      "505/506 [============================>.] - ETA: 0s - loss: 0.1075 - accuracy: 0.9584\n",
      "Epoch 00064: val_loss did not improve from 0.38324\n",
      "506/506 [==============================] - 306s 604ms/step - loss: 0.1077 - accuracy: 0.9583 - val_loss: 0.4638 - val_accuracy: 0.8510\n",
      "Epoch 65/100\n",
      "505/506 [============================>.] - ETA: 0s - loss: 0.0938 - accuracy: 0.9648\n",
      "Epoch 00065: val_loss did not improve from 0.38324\n",
      "506/506 [==============================] - 303s 599ms/step - loss: 0.0938 - accuracy: 0.9648 - val_loss: 0.4555 - val_accuracy: 0.8577\n",
      "Epoch 66/100\n",
      "505/506 [============================>.] - ETA: 0s - loss: 0.0931 - accuracy: 0.9655\n",
      "Epoch 00066: val_loss did not improve from 0.38324\n",
      "506/506 [==============================] - 302s 597ms/step - loss: 0.0930 - accuracy: 0.9655 - val_loss: 0.4693 - val_accuracy: 0.8571\n",
      "Epoch 67/100\n",
      "505/506 [============================>.] - ETA: 0s - loss: 0.0868 - accuracy: 0.9671\n",
      "Epoch 00067: val_loss did not improve from 0.38324\n",
      "506/506 [==============================] - 301s 595ms/step - loss: 0.0867 - accuracy: 0.9671 - val_loss: 0.5102 - val_accuracy: 0.8555\n",
      "Epoch 68/100\n",
      "505/506 [============================>.] - ETA: 0s - loss: 0.0970 - accuracy: 0.9629\n",
      "Epoch 00068: val_loss did not improve from 0.38324\n",
      "506/506 [==============================] - 304s 600ms/step - loss: 0.0971 - accuracy: 0.9629 - val_loss: 0.5856 - val_accuracy: 0.8404\n",
      "Epoch 69/100\n",
      "505/506 [============================>.] - ETA: 0s - loss: 0.0839 - accuracy: 0.9676\n",
      "Epoch 00069: val_loss did not improve from 0.38324\n",
      "506/506 [==============================] - 303s 599ms/step - loss: 0.0838 - accuracy: 0.9677 - val_loss: 0.5243 - val_accuracy: 0.8555\n",
      "Epoch 70/100\n",
      "505/506 [============================>.] - ETA: 0s - loss: 0.0849 - accuracy: 0.9691\n",
      "Epoch 00070: val_loss did not improve from 0.38324\n",
      "506/506 [==============================] - 305s 602ms/step - loss: 0.0848 - accuracy: 0.9691 - val_loss: 0.4350 - val_accuracy: 0.8599\n",
      "Epoch 71/100\n",
      "505/506 [============================>.] - ETA: 0s - loss: 0.0814 - accuracy: 0.9690\n",
      "Epoch 00071: val_loss did not improve from 0.38324\n",
      "506/506 [==============================] - 305s 603ms/step - loss: 0.0817 - accuracy: 0.9690 - val_loss: 0.5274 - val_accuracy: 0.8594\n",
      "Epoch 72/100\n",
      "505/506 [============================>.] - ETA: 0s - loss: 0.0775 - accuracy: 0.9716\n",
      "Epoch 00072: val_loss did not improve from 0.38324\n",
      "506/506 [==============================] - 303s 599ms/step - loss: 0.0773 - accuracy: 0.9716 - val_loss: 0.7675 - val_accuracy: 0.8231\n",
      "Epoch 73/100\n",
      "505/506 [============================>.] - ETA: 0s - loss: 0.0762 - accuracy: 0.9721\n",
      "Epoch 00073: val_loss did not improve from 0.38324\n",
      "506/506 [==============================] - 306s 606ms/step - loss: 0.0761 - accuracy: 0.9721 - val_loss: 0.4428 - val_accuracy: 0.8616\n",
      "Epoch 74/100\n",
      "505/506 [============================>.] - ETA: 0s - loss: 0.0763 - accuracy: 0.9710\n",
      "Epoch 00074: val_loss did not improve from 0.38324\n",
      "506/506 [==============================] - 305s 602ms/step - loss: 0.0763 - accuracy: 0.9710 - val_loss: 0.4688 - val_accuracy: 0.8410\n",
      "Epoch 75/100\n",
      "505/506 [============================>.] - ETA: 0s - loss: 0.0719 - accuracy: 0.9729\n",
      "Epoch 00075: val_loss did not improve from 0.38324\n",
      "506/506 [==============================] - 305s 602ms/step - loss: 0.0720 - accuracy: 0.9729 - val_loss: 0.5586 - val_accuracy: 0.8454\n",
      "Epoch 76/100\n",
      "505/506 [============================>.] - ETA: 0s - loss: 0.0693 - accuracy: 0.9754\n",
      "Epoch 00076: val_loss did not improve from 0.38324\n",
      "506/506 [==============================] - 304s 601ms/step - loss: 0.0696 - accuracy: 0.9753 - val_loss: 0.4792 - val_accuracy: 0.8644\n",
      "Epoch 77/100\n",
      "505/506 [============================>.] - ETA: 0s - loss: 0.0725 - accuracy: 0.9734\n",
      "Epoch 00077: val_loss did not improve from 0.38324\n",
      "506/506 [==============================] - 306s 605ms/step - loss: 0.0727 - accuracy: 0.9733 - val_loss: 0.4178 - val_accuracy: 0.8689\n",
      "Epoch 78/100\n",
      "505/506 [============================>.] - ETA: 0s - loss: 0.0703 - accuracy: 0.9744\n",
      "Epoch 00078: val_loss did not improve from 0.38324\n",
      "506/506 [==============================] - 305s 603ms/step - loss: 0.0704 - accuracy: 0.9743 - val_loss: 0.4912 - val_accuracy: 0.8443\n",
      "Epoch 79/100\n",
      "505/506 [============================>.] - ETA: 0s - loss: 0.0622 - accuracy: 0.9774\n",
      "Epoch 00079: val_loss did not improve from 0.38324\n",
      "506/506 [==============================] - 304s 600ms/step - loss: 0.0622 - accuracy: 0.9774 - val_loss: 0.4207 - val_accuracy: 0.8683\n",
      "Epoch 80/100\n",
      "505/506 [============================>.] - ETA: 0s - loss: 0.0641 - accuracy: 0.9763\n",
      "Epoch 00080: val_loss did not improve from 0.38324\n",
      "506/506 [==============================] - 306s 605ms/step - loss: 0.0641 - accuracy: 0.9763 - val_loss: 0.4579 - val_accuracy: 0.8538\n",
      "Epoch 81/100\n",
      "505/506 [============================>.] - ETA: 0s - loss: 0.0588 - accuracy: 0.9789\n",
      "Epoch 00081: val_loss did not improve from 0.38324\n",
      "506/506 [==============================] - 306s 604ms/step - loss: 0.0588 - accuracy: 0.9788 - val_loss: 0.5861 - val_accuracy: 0.8544\n",
      "Epoch 82/100\n",
      "505/506 [============================>.] - ETA: 0s - loss: 0.0646 - accuracy: 0.9748\n",
      "Epoch 00082: val_loss did not improve from 0.38324\n",
      "506/506 [==============================] - 302s 597ms/step - loss: 0.0646 - accuracy: 0.9747 - val_loss: 0.5419 - val_accuracy: 0.8616\n",
      "Epoch 83/100\n",
      "505/506 [============================>.] - ETA: 0s - loss: 0.0629 - accuracy: 0.9747\n",
      "Epoch 00083: val_loss did not improve from 0.38324\n",
      "506/506 [==============================] - 303s 598ms/step - loss: 0.0629 - accuracy: 0.9747 - val_loss: 0.4926 - val_accuracy: 0.8733\n",
      "Epoch 84/100\n",
      "505/506 [============================>.] - ETA: 0s - loss: 0.0586 - accuracy: 0.9792\n",
      "Epoch 00084: val_loss did not improve from 0.38324\n",
      "506/506 [==============================] - 306s 605ms/step - loss: 0.0585 - accuracy: 0.9793 - val_loss: 0.6653 - val_accuracy: 0.8471\n"
     ]
    },
    {
     "name": "stdout",
     "output_type": "stream",
     "text": [
      "Epoch 85/100\n",
      "505/506 [============================>.] - ETA: 0s - loss: 0.0627 - accuracy: 0.9774\n",
      "Epoch 00085: val_loss did not improve from 0.38324\n",
      "506/506 [==============================] - 304s 600ms/step - loss: 0.0626 - accuracy: 0.9775 - val_loss: 0.5187 - val_accuracy: 0.8677\n",
      "Epoch 86/100\n",
      "505/506 [============================>.] - ETA: 0s - loss: 0.0477 - accuracy: 0.9830\n",
      "Epoch 00086: val_loss did not improve from 0.38324\n",
      "506/506 [==============================] - 305s 603ms/step - loss: 0.0479 - accuracy: 0.9829 - val_loss: 0.5555 - val_accuracy: 0.8638\n",
      "Epoch 87/100\n",
      "505/506 [============================>.] - ETA: 0s - loss: 0.0553 - accuracy: 0.9798\n",
      "Epoch 00087: val_loss did not improve from 0.38324\n",
      "506/506 [==============================] - 305s 602ms/step - loss: 0.0553 - accuracy: 0.9798 - val_loss: 0.5080 - val_accuracy: 0.8795\n",
      "Epoch 88/100\n",
      "505/506 [============================>.] - ETA: 0s - loss: 0.0549 - accuracy: 0.9805\n",
      "Epoch 00088: val_loss did not improve from 0.38324\n",
      "506/506 [==============================] - 306s 604ms/step - loss: 0.0548 - accuracy: 0.9805 - val_loss: 0.6854 - val_accuracy: 0.8510\n",
      "Epoch 89/100\n",
      "505/506 [============================>.] - ETA: 0s - loss: 0.0519 - accuracy: 0.9815\n",
      "Epoch 00089: val_loss did not improve from 0.38324\n",
      "506/506 [==============================] - 304s 601ms/step - loss: 0.0518 - accuracy: 0.9815 - val_loss: 0.5408 - val_accuracy: 0.8661\n",
      "Epoch 90/100\n",
      "505/506 [============================>.] - ETA: 0s - loss: 0.0602 - accuracy: 0.9790\n",
      "Epoch 00090: val_loss did not improve from 0.38324\n",
      "506/506 [==============================] - 303s 599ms/step - loss: 0.0601 - accuracy: 0.9789 - val_loss: 0.4397 - val_accuracy: 0.8605\n",
      "Epoch 91/100\n",
      "505/506 [============================>.] - ETA: 0s - loss: 0.0529 - accuracy: 0.9825\n",
      "Epoch 00091: val_loss did not improve from 0.38324\n",
      "506/506 [==============================] - 304s 600ms/step - loss: 0.0528 - accuracy: 0.9825 - val_loss: 0.5207 - val_accuracy: 0.8689\n",
      "Epoch 92/100\n",
      "505/506 [============================>.] - ETA: 0s - loss: 0.0463 - accuracy: 0.9838\n",
      "Epoch 00092: val_loss did not improve from 0.38324\n",
      "506/506 [==============================] - 303s 598ms/step - loss: 0.0464 - accuracy: 0.9837 - val_loss: 0.4704 - val_accuracy: 0.8605\n",
      "Epoch 93/100\n",
      "505/506 [============================>.] - ETA: 0s - loss: 0.0464 - accuracy: 0.9834\n",
      "Epoch 00093: val_loss improved from 0.38324 to 0.37726, saving model to checkpoint-TK-smalldata.h5\n",
      "506/506 [==============================] - 307s 607ms/step - loss: 0.0464 - accuracy: 0.9833 - val_loss: 0.3773 - val_accuracy: 0.8683\n",
      "Epoch 94/100\n",
      "505/506 [============================>.] - ETA: 0s - loss: 0.0477 - accuracy: 0.9824\n",
      "Epoch 00094: val_loss did not improve from 0.37726\n",
      "506/506 [==============================] - 305s 603ms/step - loss: 0.0476 - accuracy: 0.9824 - val_loss: 0.5769 - val_accuracy: 0.8588\n",
      "Epoch 95/100\n",
      "505/506 [============================>.] - ETA: 0s - loss: 0.0445 - accuracy: 0.9839\n",
      "Epoch 00095: val_loss did not improve from 0.37726\n",
      "506/506 [==============================] - 302s 596ms/step - loss: 0.0444 - accuracy: 0.9839 - val_loss: 0.4658 - val_accuracy: 0.8811\n",
      "Epoch 96/100\n",
      "505/506 [============================>.] - ETA: 0s - loss: 0.0455 - accuracy: 0.9836\n",
      "Epoch 00096: val_loss did not improve from 0.37726\n",
      "506/506 [==============================] - 305s 604ms/step - loss: 0.0454 - accuracy: 0.9836 - val_loss: 0.4683 - val_accuracy: 0.8733\n",
      "Epoch 97/100\n",
      "505/506 [============================>.] - ETA: 0s - loss: 0.0448 - accuracy: 0.9839\n",
      "Epoch 00097: val_loss did not improve from 0.37726\n",
      "506/506 [==============================] - 304s 601ms/step - loss: 0.0448 - accuracy: 0.9840 - val_loss: 0.5205 - val_accuracy: 0.8605\n",
      "Epoch 98/100\n",
      "505/506 [============================>.] - ETA: 0s - loss: 0.0474 - accuracy: 0.9826\n",
      "Epoch 00098: val_loss did not improve from 0.37726\n",
      "506/506 [==============================] - 303s 598ms/step - loss: 0.0474 - accuracy: 0.9826 - val_loss: 0.5827 - val_accuracy: 0.8605\n",
      "Epoch 99/100\n",
      "505/506 [============================>.] - ETA: 0s - loss: 0.0468 - accuracy: 0.9830\n",
      "Epoch 00099: val_loss did not improve from 0.37726\n",
      "506/506 [==============================] - 304s 600ms/step - loss: 0.0468 - accuracy: 0.9831 - val_loss: 0.5095 - val_accuracy: 0.8527\n",
      "Epoch 100/100\n",
      "505/506 [============================>.] - ETA: 0s - loss: 0.0375 - accuracy: 0.9867\n",
      "Epoch 00100: val_loss did not improve from 0.37726\n",
      "506/506 [==============================] - 305s 603ms/step - loss: 0.0375 - accuracy: 0.9867 - val_loss: 0.5292 - val_accuracy: 0.8772\n"
     ]
    }
   ],
   "source": [
    "history = train_model(model, train_generator, validation_generator, test_generator, tf.keras.optimizers.Adam(lr = 1e-3))"
   ]
  },
  {
   "cell_type": "markdown",
   "metadata": {
    "colab_type": "text",
    "id": "fOGQG83odP4U"
   },
   "source": [
    "**Plot Results**"
   ]
  },
  {
   "cell_type": "code",
   "execution_count": 32,
   "metadata": {
    "colab": {
     "base_uri": "https://localhost:8080/",
     "height": 0
    },
    "colab_type": "code",
    "executionInfo": {
     "elapsed": 8202586,
     "status": "ok",
     "timestamp": 1594870080436,
     "user": {
      "displayName": "dongmin kim",
      "photoUrl": "",
      "userId": "18288781491500504816"
     },
     "user_tz": -540
    },
    "id": "g2oyNk4PRDmG",
    "outputId": "37e2d458-be48-47de-f275-fe3e0f6901a7"
   },
   "outputs": [
    {
     "data": {
      "image/png": "[encoded data removed]",
      "text/plain": [
       "<Figure size 432x288 with 1 Axes>"
      ]
     },
     "metadata": {
      "needs_background": "light"
     },
     "output_type": "display_data"
    }
   ],
   "source": [
    "plt.plot(history.history['accuracy'])\n",
    "plt.plot(history.history['val_accuracy'])\n",
    "plt.ylabel('accuracy')\n",
    "plt.xlabel('epoch')\n",
    "plt.legend(['training', 'validation'])\n",
    "plt.show()"
   ]
  },
  {
   "cell_type": "code",
   "execution_count": 33,
   "metadata": {
    "colab": {
     "base_uri": "https://localhost:8080/",
     "height": 0
    },
    "colab_type": "code",
    "executionInfo": {
     "elapsed": 8203098,
     "status": "ok",
     "timestamp": 1594870080952,
     "user": {
      "displayName": "dongmin kim",
      "photoUrl": "",
      "userId": "18288781491500504816"
     },
     "user_tz": -540
    },
    "id": "dFJLAzliRFJz",
    "outputId": "bc985298-1c87-45f4-a361-574ed5ba99ff"
   },
   "outputs": [
    {
     "data": {
      "image/png": "[encoded data removed]",
      "text/plain": [
       "<Figure size 432x288 with 1 Axes>"
      ]
     },
     "metadata": {
      "needs_background": "light"
     },
     "output_type": "display_data"
    }
   ],
   "source": [
    "plt.plot(history.history['loss'])\n",
    "plt.plot(history.history['val_loss'])\n",
    "plt.ylabel('loss')\n",
    "plt.xlabel('epoch')\n",
    "plt.legend(['training', 'validation'])\n",
    "plt.show()"
   ]
  },
  {
   "cell_type": "code",
   "execution_count": 34,
   "metadata": {},
   "outputs": [],
   "source": [
    "model = setupmodel()\n",
    "json_filename = \"TK_model.json\""
   ]
  },
  {
   "cell_type": "code",
   "execution_count": 35,
   "metadata": {},
   "outputs": [],
   "source": [
    "model_json = model.to_json()\n",
    "with open(json_filename, \"w\") as json_file : \n",
    "    json_file.write(model_json)"
   ]
  },
  {
   "cell_type": "code",
   "execution_count": 36,
   "metadata": {},
   "outputs": [],
   "source": [
    "from tensorflow.keras.models import model_from_json \n",
    "json_file = open(json_filename, \"r\") \n",
    "loaded_model_json = json_file.read() \n",
    "json_file.close() \n",
    "loaded_model = model_from_json(loaded_model_json)"
   ]
  },
  {
   "cell_type": "code",
   "execution_count": 37,
   "metadata": {},
   "outputs": [],
   "source": [
    "loaded_model.compile(\n",
    "    optimizer = tf.keras.optimizers.Adam(lr = 1e-3),\n",
    "    loss = 'binary_crossentropy',\n",
    "    metrics=['accuracy'],\n",
    ")\n",
    "loaded_model.load_weights(\"checkpoint-TK-smalldata.h5\")"
   ]
  },
  {
   "cell_type": "markdown",
   "metadata": {},
   "source": [
    "### Metrics - F1, Recall, Precision"
   ]
  },
  {
   "cell_type": "code",
   "execution_count": 38,
   "metadata": {},
   "outputs": [],
   "source": [
    "from sklearn import metrics\n",
    "from sklearn.metrics import roc_curve, roc_auc_score, confusion_matrix, classification_report\n",
    "from scipy.optimize import brentq\n",
    "from scipy.interpolate import interp1d\n",
    "from tqdm import tqdm, trange"
   ]
  },
  {
   "cell_type": "code",
   "execution_count": 39,
   "metadata": {},
   "outputs": [
    {
     "name": "stderr",
     "output_type": "stream",
     "text": [
      "\r",
      "  0%|          | 0/63 [00:00<?, ?it/s]"
     ]
    },
    {
     "name": "stdout",
     "output_type": "stream",
     "text": [
      "== Evaluate ==\n"
     ]
    },
    {
     "name": "stderr",
     "output_type": "stream",
     "text": [
      "100%|██████████| 63/63 [00:17<00:00,  3.55it/s]"
     ]
    },
    {
     "name": "stdout",
     "output_type": "stream",
     "text": [
      "[[2.91522741e-02 9.70847726e-01]\n",
      " [1.00000000e+00 0.00000000e+00]\n",
      " [1.00000000e+00 0.00000000e+00]\n",
      " ...\n",
      " [9.99970943e-01 2.90572643e-05]\n",
      " [9.91388381e-01 8.61161947e-03]\n",
      " [1.00000000e+00 0.00000000e+00]]\n",
      "[1. 0. 0. ... 0. 1. 0.]\n",
      "[1 0 0 ... 0 0 0]\n",
      "[1. 0. 0. ... 0. 1. 0.]\n"
     ]
    },
    {
     "name": "stderr",
     "output_type": "stream",
     "text": [
      "\n"
     ]
    }
   ],
   "source": [
    "print(\"== Evaluate ==\")\n",
    "\n",
    "output_score = []\n",
    "output_class = []\n",
    "answer_class = []\n",
    "\n",
    "for i in trange(len(test_generator)):\n",
    "    output = loaded_model.predict_on_batch(test_generator[i][0])\n",
    "    output_score.append(output)\n",
    "    answer_class.append(test_generator[i][1])\n",
    "    \n",
    "output_score = np.concatenate(output_score)\n",
    "answer_class = np.concatenate(answer_class)\n",
    "\n",
    "lst = []\n",
    "for i in output_score:\n",
    "    val = i[0]\n",
    "    sublst = [1-val, val]\n",
    "    lst.append(sublst)\n",
    "    \n",
    "output_score = np.array(lst)\n",
    "\n",
    "print(output_score)\n",
    "print(answer_class)\n",
    "\n",
    "output_class = np.argmax(output_score, axis=1)\n",
    "\n",
    "print(output_class)\n",
    "print(answer_class)"
   ]
  },
  {
   "cell_type": "code",
   "execution_count": 40,
   "metadata": {},
   "outputs": [
    {
     "name": "stdout",
     "output_type": "stream",
     "text": [
      "2000\n",
      "1000.0\n",
      "2000\n",
      "773\n"
     ]
    }
   ],
   "source": [
    "print(len(answer_class))\n",
    "\n",
    "cnt = np.sum(answer_class)\n",
    "print(cnt)\n",
    "\n",
    "print(len(output_class))\n",
    "cnt2= np.sum(output_class)\n",
    "print(cnt2)"
   ]
  },
  {
   "cell_type": "code",
   "execution_count": 41,
   "metadata": {},
   "outputs": [
    {
     "name": "stdout",
     "output_type": "stream",
     "text": [
      "              precision    recall  f1-score   support\n",
      "\n",
      "         0.0       0.77      0.94      0.85      1000\n",
      "         1.0       0.92      0.71      0.81      1000\n",
      "\n",
      "    accuracy                           0.83      2000\n",
      "   macro avg       0.85      0.83      0.83      2000\n",
      "weighted avg       0.85      0.83      0.83      2000\n",
      "\n",
      "[[942  58]\n",
      " [285 715]]\n",
      "AUROC: 0.940521\n",
      "THRESH:  0.051679372788021906\n",
      "test_acc:  0.8285\n"
     ]
    }
   ],
   "source": [
    "cm = confusion_matrix(answer_class, output_class)\n",
    "report = classification_report(answer_class, output_class)\n",
    "\n",
    "recall = cm[0][0] / (cm[0][0] + cm[0][1])\n",
    "fallout = cm[1][0] / (cm[1][0] + cm[1][1])\n",
    "\n",
    "fpr, tpr, thresholds = roc_curve(answer_class, output_score[:, 1], pos_label=1.)\n",
    "eer = brentq(lambda x : 1. - x - interp1d(fpr, tpr)(x), 0., 1.)\n",
    "thresh = interp1d(fpr, thresholds)(eer)\n",
    "\n",
    "print(report)\n",
    "print(cm)\n",
    "print(\"AUROC: %f\" %(roc_auc_score(answer_class, output_score[:, 1])))\n",
    "print(\"THRESH: \" , thresh)\n",
    "print('test_acc: ', len(output_class[np.equal(output_class, answer_class)]) / len(output_class))"
   ]
  }
 ],
 "metadata": {
  "accelerator": "GPU",
  "colab": {
   "authorship_tag": "ABX9TyPykDpKpzBavJLmF/+k9+Cn",
   "collapsed_sections": [],
   "mount_file_id": "1402Yotl5EV6I7ydoZjvC667pxYPhTEnO",
   "name": "tensor_dcmp_baseline.ipynb",
   "provenance": [],
   "toc_visible": true
  },
  "kernelspec": {
   "display_name": "Python 3",
   "language": "python",
   "name": "python3"
  },
  "language_info": {
   "codemirror_mode": {
    "name": "ipython",
    "version": 3
   },
   "file_extension": ".py",
   "mimetype": "text/x-python",
   "name": "python",
   "nbconvert_exporter": "python",
   "pygments_lexer": "ipython3",
   "version": "3.7.6"
  }
 },
 "nbformat": 4,
 "nbformat_minor": 1
}
